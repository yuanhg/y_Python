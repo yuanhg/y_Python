{
 "cells": [
  {
   "cell_type": "markdown",
   "metadata": {
    "colab_type": "text",
    "id": "jeLuygaDirrc"
   },
   "source": [
    "# Example code for search of best activation function\n",
    "### [----->ML From Scratch](https://mlfromscratch.com)\n",
    "We are going to run a small experiment, using mostly Keras and Scikit-Learn. The goal is to take the MNIST dataset and draw a graph of activations functions with loss over time.\n",
    "\n",
    "The outline for this notebook is as follows:\n",
    "1. [Importing packages and small tweaks to MNIST dataset](#1.-Importing-and-preprocessing)\n",
    "2. [Readying functions, hyperparameters etc.](#2.-Readying-functions-and-hyperparameters)\n",
    "3. [Fitting data](#3.-Fitting-the-data-with-multiple-activation-functions)\n",
    "4. [Plotting](#4.-Graph-the-results)"
   ]
  },
  {
   "cell_type": "markdown",
   "metadata": {
    "colab_type": "text",
    "id": "02_6eOfVirrd"
   },
   "source": [
    "# 1. Importing and preprocessing"
   ]
  },
  {
   "cell_type": "code",
   "execution_count": null,
   "metadata": {
    "colab": {
     "base_uri": "https://localhost:8080/",
     "height": 68
    },
    "colab_type": "code",
    "id": "QxBVxifDirre",
    "outputId": "da070e7d-3b41-4f67-a511-c7167acfcf19"
   },
   "outputs": [],
   "source": [
    "# IMPORTS\n",
    "import tensorflow as tf\n",
    "import numpy as np\n",
    "import matplotlib.pyplot as plt\n",
    "from keras.datasets import mnist\n",
    "from keras.utils.np_utils import to_categorical\n",
    "from keras.models import Sequential\n",
    "from keras.layers import Dense, Dropout, Flatten, Conv2D, MaxPooling2D, Activation, LeakyReLU\n",
    "from keras.layers.noise import AlphaDropout\n",
    "from keras.utils.generic_utils import get_custom_objects\n",
    "from keras import backend as K\n",
    "from keras.optimizers import Adam\n",
    "\n",
    "# LOAD DATA\n",
    "(x_train, y_train), (x_test, y_test) = mnist.load_data()\n",
    "\"\"\"def load_data(path='mnist.npz'):\n",
    "    npz实际上是numpy提供的数组存储方式，简单的可看做是一系列npy数据的组合，\n",
    "    利用np.load函数读取后得到一个类似字典的对象，可以通过关键字进行值查询，关键字对应的值其实就是一个npy数据\n",
    "    \"\"\"Loads the MNIST dataset.\n",
    "    # Arguments\n",
    "        path: path where to cache the dataset locally\n",
    "            (relative to ~/.keras/datasets).\n",
    "    # Returns\n",
    "        Tuple of Numpy arrays: `(x_train, y_train), (x_test, y_test)`.\n",
    "    \"\"\"\n",
    "    path = get_file(path,\n",
    "                    origin='https://s3.amazonaws.com/img-datasets/mnist.npz',\n",
    "                    file_hash='8a61469f7ea1b51cbae51d4f78837e45')\n",
    "    f = np.load(path)\n",
    "    x_train, y_train = f['x_train'], f['y_train']\n",
    "    x_test, y_test = f['x_test'], f['y_test']\n",
    "    f.close()\n",
    "    return (x_train, y_train), (x_test, y_test)\n",
    "#--------\n",
    "\"\"\"\n",
    "# PREPROCESSING\n",
    "def preprocess_mnist(x_train, y_train, x_test, y_test):\n",
    "    # Normalizing all images of 28x28 pixels\n",
    "    x_train = x_train.reshape(x_train.shape[0], 28, 28, 1)\n",
    "    x_test = x_test.reshape(x_test.shape[0], 28, 28, 1)\n",
    "    input_shape = (28, 28, 1)\n",
    "    \n",
    "    # Float values for division\n",
    "    x_train = x_train.astype('float32')\n",
    "    x_test = x_test.astype('float32')\n",
    "    \n",
    "    # Normalizing the RGB codes by dividing it to the max RGB value\n",
    "    x_train /= 255\n",
    "    x_test /= 255\n",
    "    \n",
    "    # Categorical y values\n",
    "    y_train = to_categorical(y_train)\n",
    "    y_test= to_categorical(y_test)\n",
    "    \n",
    "    return x_train, y_train, x_test, y_test, input_shape\n",
    "    \n",
    "x_train, y_train, x_test, y_test, input_shape = preprocess_mnist(x_train, y_train, x_test, y_test)"
   ]
  },
  {
   "cell_type": "markdown",
   "metadata": {
    "colab_type": "text",
    "id": "LFHysNzOirrg"
   },
   "source": [
    "# 2. Readying functions and hyperparameters"
   ]
  },
  {
   "cell_type": "code",
   "execution_count": null,
   "metadata": {
    "colab": {
     "base_uri": "https://localhost:8080/",
     "height": 122
    },
    "colab_type": "code",
    "id": "vnZXfS8Pirrh",
    "outputId": "bdc3479e-c344-4562-f58c-5ff7abb22420"
   },
   "outputs": [],
   "source": [
    "# Readying neural network model\n",
    "def build_cnn(activation,\n",
    "              dropout_rate,\n",
    "              optimizer):\n",
    "    model = Sequential()\n",
    "    \n",
    "    if(activation == 'selu'):\n",
    "        model.add(Conv2D(32, kernel_size=(3, 3),\n",
    "                  activation=activation,\n",
    "                  input_shape=input_shape,\n",
    "                  kernel_initializer='lecun_normal'))\n",
    "        model.add(Conv2D(64, (3, 3), activation=activation, \n",
    "                         kernel_initializer='lecun_normal'))\n",
    "        model.add(MaxPooling2D(pool_size=(2, 2)))\n",
    "        model.add(AlphaDropout(0.25))\n",
    "        model.add(Flatten())\n",
    "        model.add(Dense(128, activation=activation, \n",
    "                        kernel_initializer='lecun_normal'))\n",
    "        model.add(AlphaDropout(0.5))\n",
    "        model.add(Dense(10, activation='softmax'))\n",
    "    else:\n",
    "        model.add(Conv2D(32, kernel_size=(3, 3),\n",
    "                  activation=activation,\n",
    "                  input_shape=input_shape))\n",
    "        model.add(Conv2D(64, (3, 3), activation=activation))\n",
    "        model.add(MaxPooling2D(pool_size=(2, 2)))\n",
    "        model.add(Dropout(0.25))\n",
    "        model.add(Flatten())\n",
    "        model.add(Dense(128, activation=activation))\n",
    "        model.add(Dropout(0.5))\n",
    "        model.add(Dense(10, activation='softmax'))\n",
    "    \n",
    "    model.compile(\n",
    "        loss='binary_crossentropy', \n",
    "        optimizer=optimizer, \n",
    "        metrics=['accuracy']\n",
    "    )\n",
    "    \n",
    "    return model\n",
    "\n",
    "# Add the GELU function to Keras\n",
    "def gelu(x):\n",
    "    return 0.5 * x * (1 + tf.tanh(tf.sqrt(2 / np.pi) * (x + 0.044715 * tf.pow(x, 3))))\n",
    "get_custom_objects().update({'gelu': Activation(gelu)})\n",
    "\n",
    "# Add leaky-relu so we can use it as a string\n",
    "get_custom_objects().update({'leaky-relu': Activation(LeakyReLU(alpha=0.2))})\n",
    "\n",
    "act_func = ['sigmoid', 'relu', 'elu', 'leaky-relu', 'selu', 'gelu']"
   ]
  },
  {
   "cell_type": "markdown",
   "metadata": {
    "colab_type": "text",
    "id": "5P8bYt1-irrj"
   },
   "source": [
    "# 3. Fitting the data with multiple activation functions"
   ]
  },
  {
   "cell_type": "code",
   "execution_count": null,
   "metadata": {
    "colab": {
     "base_uri": "https://localhost:8080/",
     "height": 1000
    },
    "colab_type": "code",
    "id": "fuf01NfPirrk",
    "outputId": "7679883e-0de1-4dae-8f6d-4abc2b80f1fa"
   },
   "outputs": [],
   "source": [
    "result = []\n",
    "\n",
    "for activation in act_func:\n",
    "    print('\\nTraining with -->{0}<-- activation function\\n'.format(activation))\n",
    "    \n",
    "    model = build_cnn(activation=activation,\n",
    "                      dropout_rate=0.2,\n",
    "                      optimizer=Adam(clipvalue=0.5))\n",
    "    \n",
    "    history = model.fit(x_train, y_train,\n",
    "          validation_split=0.20,\n",
    "          batch_size=128, # 128 is faster, but less accurate. 16/32 recommended\n",
    "          epochs=100,\n",
    "          verbose=1,\n",
    "          validation_data=(x_test, y_test))\n",
    "    \n",
    "    result.append(history)\n",
    "    \n",
    "    K.clear_session()\n",
    "    del model\n",
    "\n",
    "print(result)"
   ]
  },
  {
   "cell_type": "markdown",
   "metadata": {
    "colab_type": "text",
    "id": "clEHQS7cirrm"
   },
   "source": [
    "# 4. Graph the results"
   ]
  },
  {
   "cell_type": "code",
   "execution_count": null,
   "metadata": {
    "colab": {
     "base_uri": "https://localhost:8080/",
     "height": 1000
    },
    "colab_type": "code",
    "id": "JYonCTctirrn",
    "outputId": "6867361f-96d4-4572-a1fc-9d8af9ced67d"
   },
   "outputs": [],
   "source": [
    "def plot_act_func_results(results, activation_functions = []):\n",
    "    plt.figure(figsize=(10,10))\n",
    "    plt.style.use('dark_background')\n",
    "    \n",
    "    # Plot validation accuracy values\n",
    "    for act_func in results:\n",
    "        plt.plot(act_func.history['val_acc'])\n",
    "        \n",
    "    plt.title('Model accuracy')\n",
    "    plt.ylabel('Test Accuracy')\n",
    "    plt.xlabel('Epoch')\n",
    "    plt.legend(activation_functions)\n",
    "    plt.show()\n",
    "\n",
    "    # Plot validation loss values\n",
    "    plt.figure(figsize=(10,10))\n",
    "    \n",
    "    for act_func in results:\n",
    "        plt.plot(act_func.history['val_loss'])\n",
    "        \n",
    "    plt.title('Model loss')\n",
    "    plt.ylabel('Test Loss')\n",
    "    plt.xlabel('Epoch')\n",
    "    plt.legend(activation_functions)\n",
    "    plt.show()\n",
    "\n",
    "plot_act_func_results(result, act_func)"
   ]
  },
  {
   "cell_type": "code",
   "execution_count": null,
   "metadata": {
    "colab": {
     "base_uri": "https://localhost:8080/",
     "height": 1000
    },
    "colab_type": "code",
    "id": "aqeT_lC-irrp",
    "outputId": "d0903964-138c-4444-d8bb-613c58eaa11a"
   },
   "outputs": [],
   "source": [
    "new_act_arr = act_func[1:]\n",
    "new_results = result[1:]\n",
    "\n",
    "def plot_act_func_results(results, activation_functions = []):\n",
    "    plt.figure(figsize=(10,10))\n",
    "    plt.style.use('dark_background')\n",
    "    \n",
    "    # Plot validation accuracy values\n",
    "    for act_func in results:\n",
    "        plt.plot(act_func.history['val_acc'])\n",
    "        \n",
    "    plt.title('Model accuracy')\n",
    "    plt.ylabel('Test Accuracy')\n",
    "    plt.xlabel('Epoch')\n",
    "    plt.legend(activation_functions)\n",
    "    plt.show()\n",
    "\n",
    "    # Plot validation loss values\n",
    "    plt.figure(figsize=(10,10))\n",
    "    \n",
    "    for act_func in results:\n",
    "        plt.plot(act_func.history['val_loss'])\n",
    "        \n",
    "    plt.title('Model loss')\n",
    "    plt.ylabel('Test Loss')\n",
    "    plt.xlabel('Epoch')\n",
    "    plt.legend(activation_functions)\n",
    "    plt.show()\n",
    "\n",
    "plot_act_func_results(new_results, new_act_arr)"
   ]
  }
 ],
 "metadata": {
  "accelerator": "GPU",
  "colab": {
   "collapsed_sections": [],
   "include_colab_link": true,
   "name": "Experiment_Activation_Functions.ipynb",
   "provenance": [],
   "version": "0.3.2"
  },
  "kernelspec": {
   "display_name": "Python 3",
   "language": "python",
   "name": "python3"
  },
  "language_info": {
   "codemirror_mode": {
    "name": "ipython",
    "version": 3
   },
   "file_extension": ".py",
   "mimetype": "text/x-python",
   "name": "python",
   "nbconvert_exporter": "python",
   "pygments_lexer": "ipython3",
   "version": "3.7.6"
  }
 },
 "nbformat": 4,
 "nbformat_minor": 1
}
