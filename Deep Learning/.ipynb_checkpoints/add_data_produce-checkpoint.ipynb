{
 "cells": [
  {
   "cell_type": "code",
   "execution_count": null,
   "metadata": {},
   "outputs": [],
   "source": [
    "import numpy as np\n",
    "\n",
    "data_x = []\n",
    "data_y = []\n",
    "\n",
    "# the training inputs \n",
    "# the last column is used to add non linearity to the clasification task\n",
    "x = np.array([[0, 0, 1],\n",
    "              [0, 1, 1],\n",
    "              [1, 0, 1],\n",
    "              [0, 1, 0],\n",
    "              [1, 0, 0],\n",
    "              [1, 1, 1],\n",
    "              [0, 0, 0]])\n",
    "    \n",
    "# the training outputs\n",
    "y = np.array([[0, 1, 1, 1, 1, 0, 0]]).T\n",
    "\n",
    "np.savez('add_date.npz', x=x, y=y)\n",
    "train_data = np.load('add_date.npz')\n",
    "print(train_data['x'])\n",
    "print(train_data['y'])\n",
    "\n",
    "# the test inputs \n",
    "# the last column is used to add non linearity to the clasification task\n",
    "x = np.array([[1, 0, 0]])\n",
    "    \n",
    "# the training outputs\n",
    "y = np.array([[1]]).T\n",
    "\n",
    "np.savez('add_date_t.npz', x=x, y=y)\n",
    "test_data = np.load('add_date_t.npz')\n",
    "print(test_data['x'])\n",
    "print(test_data['y'])"
   ]
  }
 ],
 "metadata": {
  "kernelspec": {
   "display_name": "Python 3",
   "language": "python",
   "name": "python3"
  },
  "language_info": {
   "codemirror_mode": {
    "name": "ipython",
    "version": 3
   },
   "file_extension": ".py",
   "mimetype": "text/x-python",
   "name": "python",
   "nbconvert_exporter": "python",
   "pygments_lexer": "ipython3",
   "version": "3.7.6"
  }
 },
 "nbformat": 4,
 "nbformat_minor": 4
}
