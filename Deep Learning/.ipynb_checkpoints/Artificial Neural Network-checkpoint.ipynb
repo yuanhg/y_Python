{
 "cells": [
  {
   "cell_type": "markdown",
   "metadata": {},
   "source": [
    "# Artificial Neural Networks Explained"
   ]
  },
  {
   "cell_type": "markdown",
   "metadata": {},
   "source": [
    "## Definition:"
   ]
  },
  {
   "cell_type": "markdown",
   "metadata": {},
   "source": [
    "[**Artificial neural networks**](https://en.wikipedia.org/wiki/Artificial_neural_network) (ANNs) or connectionist systems are computing systems vaguely inspired by the biological neural networks that constitute animal brains. Such systems \"learn\" to perform tasks by considering examples, generally without being programmed with any task-specific rules."
   ]
  },
  {
   "cell_type": "markdown",
   "metadata": {},
   "source": [
    "## The Architecture of an Artificial Neural Network:"
   ]
  },
  {
   "cell_type": "markdown",
   "metadata": {},
   "source": [
    "ANN is a set of connected neurons organized in layers:\n",
    "- **input layer:** brings the initial data into the system for further processing by subsequent layers of artificial neurons.\n",
    "    <br>\n",
    "- **hidden layer:** a layer in between input layers and output layers, where artificial neurons take in a set of weighted inputs and produce an output through an activation function.\n",
    "    <br>\n",
    "- **output layer:** the last layer of neurons that produces given outputs for the program."
   ]
  },
  {
   "cell_type": "markdown",
   "metadata": {},
   "source": [
    "## Types of ANNs:"
   ]
  },
  {
   "cell_type": "markdown",
   "metadata": {},
   "source": [
    "### Perceptron:\n"
   ]
  },
  {
   "cell_type": "markdown",
   "metadata": {},
   "source": [
    "The simplest and oldest model of an ANN, the Perceptron is a linear classifier used for binary predictions. This means that in order for it to work, the data must be linearly separable."
   ]
  },
  {
   "cell_type": "markdown",
   "metadata": {},
   "source": [
    "![](https://jtsulliv.github.io/images/perceptron/linsep_new.png?raw=True)"
   ]
  },
  {
   "cell_type": "markdown",
   "metadata": {},
   "source": [
    "#### Its Architecture:"
   ]
  },
  {
   "cell_type": "markdown",
   "metadata": {},
   "source": [
    "![](http://ataspinar.com/wp-content/uploads/2016/11/perceptron_schematic_overview.png)"
   ]
  },
  {
   "cell_type": "markdown",
   "metadata": {},
   "source": [
    "### Multi-layer ANN:"
   ]
  },
  {
   "cell_type": "markdown",
   "metadata": {},
   "source": [
    "More sophisticated than the perceptron, a Multi-layer ANN (e.g.: Convolutional Neural Network, Recurrent Neural Network etc ...) is capable of solving more complex classification and regression tasks thanks to its hidden layer(s)."
   ]
  },
  {
   "cell_type": "markdown",
   "metadata": {},
   "source": [
    "#### Its Architecture:"
   ]
  },
  {
   "cell_type": "markdown",
   "metadata": {},
   "source": [
    "![](https://www.pyimagesearch.com/wp-content/uploads/2016/08/simple_neural_network_header.jpg)"
   ]
  },
  {
   "cell_type": "markdown",
   "metadata": {},
   "source": [
    "### Activation Functions:"
   ]
  },
  {
   "cell_type": "markdown",
   "metadata": {},
   "source": [
    "#### Definition:"
   ]
  },
  {
   "cell_type": "markdown",
   "metadata": {},
   "source": [
    "In artificial neural networks, the [**activation function**](https://en.wikipedia.org/wiki/Activation_function) of a node defines the output of that node given an input or set of inputs."
   ]
  },
  {
   "cell_type": "markdown",
   "metadata": {},
   "source": [
    "#### Sigmoid:"
   ]
  },
  {
   "cell_type": "markdown",
   "metadata": {
    "collapsed": true
   },
   "source": [
    "A [**sigmoid function**](https://en.wikipedia.org/wiki/Sigmoid_function) is a mathematical function having a characteristic \"S\"-shaped curve or sigmoid curve. Often, sigmoid function refers to the special case of the logistic function which generate a set of probability outputs between 0 and 1 when fed with a set of inputs.\n",
    "The sigmoid activation function is widely used in binary classification."
   ]
  },
  {
   "cell_type": "markdown",
   "metadata": {},
   "source": [
    "#### Equation:"
   ]
  },
  {
   "cell_type": "markdown",
   "metadata": {},
   "source": [
    "$$Sigmoid(x) = \\frac{1}{1 + e^{(-x)}} = \\frac{e^x}{1 + e^x}$$"
   ]
  },
  {
   "cell_type": "markdown",
   "metadata": {},
   "source": [
    "#### Graphical Representation:"
   ]
  },
  {
   "cell_type": "markdown",
   "metadata": {},
   "source": [
    "![](http://ronny.rest/media/blog/2017/2017_08_10_sigmoid/sigmoid_plot.jpg)"
   ]
  },
  {
   "cell_type": "markdown",
   "metadata": {},
   "source": [
    "#### Programmatically:"
   ]
  },
  {
   "cell_type": "code",
   "execution_count": 1,
   "metadata": {},
   "outputs": [],
   "source": [
    "# import our dependencies\n",
    "%matplotlib inline\n",
    "import matplotlib.pyplot as plt\n",
    "import seaborn; seaborn.set()\n",
    "from numpy import exp, array, append"
   ]
  },
  {
   "cell_type": "code",
   "execution_count": 2,
   "metadata": {},
   "outputs": [],
   "source": [
    "# Sigmoid activation function\n",
    "def Sigmoid(x):\n",
    "    return 1 / (1 + exp(-x))"
   ]
  },
  {
   "cell_type": "code",
   "execution_count": 3,
   "metadata": {},
   "outputs": [
    {
     "data": {
      "image/png": "[encoded data removed]",
      "text/plain": [
       "<Figure size 432x288 with 1 Axes>"
      ]
     },
     "metadata": {
      "needs_background": "light"
     },
     "output_type": "display_data"
    }
   ],
   "source": [
    "# Graphical representation of our sigmoid activation function\n",
    "for i in array([range(-10, 10)]):\n",
    "    x = append(array([]), i)\n",
    "    plt.plot(x, Sigmoid(x))\n",
    "    plt.title(\"Sigmoid activation function\")\n",
    "    plt.xlabel(\"x\")\n",
    "    plt.ylabel(\"S(x)\")"
   ]
  },
  {
   "cell_type": "markdown",
   "metadata": {},
   "source": [
    "#### Tan-h:"
   ]
  },
  {
   "cell_type": "markdown",
   "metadata": {
    "collapsed": true
   },
   "source": [
    "An alternative to the logistic sigmoid is the [**hyperbolic tangent**](https://theclevermachine.wordpress.com/tag/tanh-function/), or tan-h function. Like the logistic sigmoid, the tan-h function is also sigmoidal (\"S\"-shaped), but instead outputs values that range [-1, 1]. Thus strongly negative inputs to the tan-h will map to negative outputs."
   ]
  },
  {
   "cell_type": "markdown",
   "metadata": {},
   "source": [
    "#### Equation:"
   ]
  },
  {
   "cell_type": "markdown",
   "metadata": {
    "collapsed": true
   },
   "source": [
    "$$tanh(x) = \\frac{2}{1 + e^{-2x}} - 1 = 2 \\times Sigmoid(2x) - 1$$"
   ]
  },
  {
   "cell_type": "markdown",
   "metadata": {},
   "source": [
    "#### Graphical Representation:"
   ]
  },
  {
   "cell_type": "markdown",
   "metadata": {},
   "source": [
    "![](https://i.stack.imgur.com/Mg9s9.png)"
   ]
  },
  {
   "cell_type": "markdown",
   "metadata": {},
   "source": [
    "#### Programmatically:"
   ]
  },
  {
   "cell_type": "code",
   "execution_count": 4,
   "metadata": {},
   "outputs": [],
   "source": [
    "# Tan-h activation function\n",
    "def Tanh(x):\n",
    "    return 2 / (1 + exp(-2*x)) - 1"
   ]
  },
  {
   "cell_type": "code",
   "execution_count": 5,
   "metadata": {},
   "outputs": [
    {
     "data": {
      "image/png": "[encoded data removed]",
      "text/plain": [
       "<Figure size 432x288 with 1 Axes>"
      ]
     },
     "metadata": {
      "needs_background": "light"
     },
     "output_type": "display_data"
    }
   ],
   "source": [
    "# Graphical representation of our tan-h activation function\n",
    "for i in array([range(-10, 10)]):\n",
    "    x = append(array([]), i)\n",
    "    plt.plot(x, Tanh(x))\n",
    "    plt.title(\"Tan-h activation function\")\n",
    "    plt.xlabel(\"x\")\n",
    "    plt.ylabel(\"tanh(x)\")"
   ]
  },
  {
   "cell_type": "markdown",
   "metadata": {},
   "source": [
    "#### Softmax:"
   ]
  },
  {
   "cell_type": "markdown",
   "metadata": {
    "collapsed": true
   },
   "source": [
    "Unlike the Sigmoid activation function, the [**Softmax activation function**](http://dataaspirant.com/2017/03/07/difference-between-softmax-function-and-sigmoid-function/) is used for multi-class classification. Softmax function calculates the probabilities distribution of the event over ‘n’ different events. In general way of saying, this function will calculate the probabilities of each target class over all possible target classes. Later the calculated probabilities will be helpful for determining the target class for the given inputs."
   ]
  },
  {
   "cell_type": "markdown",
   "metadata": {},
   "source": [
    "#### Equation:"
   ]
  },
  {
   "cell_type": "markdown",
   "metadata": {},
   "source": [
    "$$Softmax(x) = \\frac{e^j}{\\sum_i{e^i}}$$"
   ]
  },
  {
   "cell_type": "markdown",
   "metadata": {},
   "source": [
    "#### Programmatically:"
   ]
  },
  {
   "cell_type": "code",
   "execution_count": 6,
   "metadata": {},
   "outputs": [
    {
     "data": {
      "text/plain": [
       "array([0.01165623, 0.03168492, 0.08612854, 0.23412166, 0.63640865])"
      ]
     },
     "execution_count": 6,
     "metadata": {},
     "output_type": "execute_result"
    }
   ],
   "source": [
    "from numpy import sum\n",
    "\n",
    "# Softmax activation function\n",
    "def Softmax(x):\n",
    "    return exp(x) / sum(exp(x))\n",
    "\n",
    "x = array([1, 2, 3, 4, 5])\n",
    "\n",
    "Softmax(x)"
   ]
  },
  {
   "cell_type": "markdown",
   "metadata": {},
   "source": [
    "#### ReLU:"
   ]
  },
  {
   "cell_type": "markdown",
   "metadata": {
    "collapsed": true
   },
   "source": [
    "Instead of the sigmoid activation function, most recent artificial neural networks use [**rectified linear units**](https://github.com/Kulbear/deep-learning-nano-foundation/wiki/ReLU-and-Softmax-Activation-Functions) (ReLUs) for the hidden layers. A rectified linear unit has output 0 if the input is less than 0, and raw output otherwise. That is, if the input is greater than 0, the output is equal to the input. "
   ]
  },
  {
   "cell_type": "markdown",
   "metadata": {},
   "source": [
    "#### Equation:"
   ]
  },
  {
   "cell_type": "markdown",
   "metadata": {},
   "source": [
    "$$ReLU(x) = max(0,x)$$"
   ]
  },
  {
   "cell_type": "markdown",
   "metadata": {},
   "source": [
    "#### Graphical Representation:"
   ]
  },
  {
   "cell_type": "markdown",
   "metadata": {},
   "source": [
    "![](https://i1.wp.com/laid.delanover.com/wp-content/uploads/2017/07/relu.png)"
   ]
  },
  {
   "cell_type": "markdown",
   "metadata": {},
   "source": [
    "#### Programmatically:"
   ]
  },
  {
   "cell_type": "code",
   "execution_count": 7,
   "metadata": {},
   "outputs": [],
   "source": [
    "# ReLU activation function\n",
    "def ReLU(x):\n",
    "    return x * (x > 0)"
   ]
  },
  {
   "cell_type": "code",
   "execution_count": 8,
   "metadata": {},
   "outputs": [
    {
     "data": {
      "text/plain": [
       "Text(0, 0.5, 'ReLU(x)')"
      ]
     },
     "execution_count": 8,
     "metadata": {},
     "output_type": "execute_result"
    },
    {
     "data": {
      "image/png": "[encoded data removed]",
      "text/plain": [
       "<Figure size 432x288 with 1 Axes>"
      ]
     },
     "metadata": {
      "needs_background": "light"
     },
     "output_type": "display_data"
    }
   ],
   "source": [
    "# Graphical representation of our ReLU activation function\n",
    "x = array(range(-10, 10))\n",
    "plt.plot(x, ReLU(x))\n",
    "plt.title(\"ReLU activation function\")\n",
    "plt.xlabel(\"x\")\n",
    "plt.ylabel(\"ReLU(x)\")"
   ]
  },
  {
   "cell_type": "markdown",
   "metadata": {},
   "source": [
    "#### Leaky ReLU:"
   ]
  },
  {
   "cell_type": "markdown",
   "metadata": {
    "collapsed": true
   },
   "source": [
    "#### Definition:"
   ]
  },
  {
   "cell_type": "markdown",
   "metadata": {},
   "source": [
    "The **Leaky ReLU** activation function works the same way as the ReLU activation function except that instead of replacing the negative values of the inputs with 0 the latter get multiplied by a small alpha value in an attempt to avoid the \"dying ReLU\" problem."
   ]
  },
  {
   "cell_type": "markdown",
   "metadata": {},
   "source": [
    "#### Equation:"
   ]
  },
  {
   "cell_type": "markdown",
   "metadata": {},
   "source": [
    "\\begin{equation}\n",
    "  LeakyReLU(x)=\\begin{cases}\n",
    "    x, & \\text{if x > 0}.\\\\\n",
    "    \\alpha x, & \\text{otherwise}.\n",
    "  \\end{cases}\n",
    "\\end{equation}"
   ]
  },
  {
   "cell_type": "markdown",
   "metadata": {},
   "source": [
    "#### Graphical Representation:"
   ]
  },
  {
   "cell_type": "markdown",
   "metadata": {},
   "source": [
    "![](https://cdn.tinymind.com/static/img/learn/leaky-relu.png)"
   ]
  },
  {
   "cell_type": "markdown",
   "metadata": {},
   "source": [
    "#### Programmatically:"
   ]
  },
  {
   "cell_type": "code",
   "execution_count": 9,
   "metadata": {},
   "outputs": [],
   "source": [
    "from numpy import where"
   ]
  },
  {
   "cell_type": "code",
   "execution_count": 10,
   "metadata": {},
   "outputs": [],
   "source": [
    "# Leaky ReLU activation function\n",
    "def LeakyReLU(x):\n",
    "    return where(x > 0, x, x * 0.1)"
   ]
  },
  {
   "cell_type": "code",
   "execution_count": 11,
   "metadata": {},
   "outputs": [
    {
     "data": {
      "text/plain": [
       "Text(0, 0.5, 'Leaky ReLU(x)')"
      ]
     },
     "execution_count": 11,
     "metadata": {},
     "output_type": "execute_result"
    },
    {
     "data": {
      "image/png": "[encoded data removed]",
      "text/plain": [
       "<Figure size 432x288 with 1 Axes>"
      ]
     },
     "metadata": {
      "needs_background": "light"
     },
     "output_type": "display_data"
    }
   ],
   "source": [
    "# Graphical representation of our Leaky ReLU activation function\n",
    "x = array(range(-10, 10))\n",
    "plt.plot(x, LeakyReLU(x))\n",
    "plt.title(\"Leaky ReLU activation function\")\n",
    "plt.xlabel(\"x\")\n",
    "plt.ylabel(\"Leaky ReLU(x)\")"
   ]
  },
  {
   "cell_type": "markdown",
   "metadata": {},
   "source": [
    "#### Why do we use activation functions ?"
   ]
  },
  {
   "cell_type": "markdown",
   "metadata": {},
   "source": [
    "You are probably asking yourself after reading the whole Activation Function section about the useflness of the latter, why even bother using it ? why don't we just use the initial dot product output without feeding it to the activation function ?\n",
    "\n",
    "Well, without an activation function we will fail to introduce non-linearity into the network.\n",
    "\n",
    "An activation function will allow us to model a response variable (target variable, class label, or score) that varies non-linearly with its explanatory variables.\n",
    "\n",
    "non-linear means that the output cannot be reproduced from a linear combination of the inputs.\n",
    "\n",
    "another way to think of it: without a non-linear activation function in the network, an artificial neural network, no matter how many layers it has, will behave just like a single-layer perceptron, because summing these layers would give you just another linear function."
   ]
  },
  {
   "cell_type": "markdown",
   "metadata": {},
   "source": [
    "#### Which activation function is the \"best\" to use ?"
   ]
  },
  {
   "cell_type": "markdown",
   "metadata": {},
   "source": [
    "There are many activation functions out there but which one is the best to use? This question has been asked by many beginners in the deep learning field (including myself).\n",
    "\n",
    "The short answer for this question is: There is no \"best\" activation function.\n",
    "\n",
    "The long answer is: The use of an activation function depends on the task you are dealing with, is the task a regression or a classification problem? if it's a classification problem then is it a binary classification or a multiclass classification task? it all comes down to the task you are dealing with.\n",
    "\n",
    "for example we can't possibly use the Sigmoid or tan-h activation functions for a multiclass classification task we would better be using the Softmax activation function instead. right? as it would output a vector of probabilities of each class. \n",
    "another example, which activation would be better to use in the hidden layer part of a multi-layered neural net? if you use the sigmoid activation function then you would be hit by the vanishing gradient problem (the vanishing gradient problem is when the gradient becomes so small in the earlier layers of a deep neural network to the point that it barely affects the weights of the earlier layers thus failing at optimizing our initial weights.), should we use the tan-h activation function then? not necessarily, it's true that the tan-h function is an enhanced version of the sigmoid function but the vanishing gradient problem is still persistently there. So, the solution to our persistent problem is the the ReLU activation function, but how does it solve the vanishing gradient problem? the fact that the derivative of the ReLU activation function is 1 if its inputs are positive will assure that the gradient will not get infinitesimally smaller passing from one layer to another but what if our inputs are negative? here we get stuck with what we call the \"dying ReLU\" problem (the dying ReLU problem is when the ReLU activation function always outputs the same value (zero) for any input. That means that it takes no role in discriminating between inputs. Once a ReLU ends up in this state, it is unlikely to recover, because the function gradient at 0 is also 0, so gradient descent learning will not alter the weights.), here comes the Leaky/Parametric ReLU to rescue and instead of outputting a flat out zero for the negative values the Leaky ReLU multiplies the negative values by an alpha parametric value ($\\alpha = 0.01$).\n",
    "\n",
    "As you can see from the previous explanation, the use of a certain activation function depends on the task you are dealing with and the problems you face while building your neural network."
   ]
  },
  {
   "cell_type": "markdown",
   "metadata": {},
   "source": [
    "### Forward Propagation:"
   ]
  },
  {
   "cell_type": "markdown",
   "metadata": {},
   "source": [
    "#### Definition:"
   ]
  },
  {
   "cell_type": "markdown",
   "metadata": {},
   "source": [
    "**Forward propagation** is the process of feeding the Neural Network with a set of inputs to get their dot product with their weights then feeding the latter to an activation function and comparing its numerical value to the actual output called \"the ground truth\"."
   ]
  },
  {
   "cell_type": "markdown",
   "metadata": {},
   "source": [
    "#### Calculations:"
   ]
  },
  {
   "cell_type": "markdown",
   "metadata": {},
   "source": [
    "Let's demonstrate how the output gets calculated in a forward pass in a 3-4-1 Artificial Neural Network:"
   ]
  },
  {
   "cell_type": "markdown",
   "metadata": {},
   "source": [
    "![](http://neuralnetworksanddeeplearning.com/images/tikz10.png)"
   ]
  },
  {
   "cell_type": "markdown",
   "metadata": {},
   "source": [
    "****The initial weights of the first and second layer:****"
   ]
  },
  {
   "cell_type": "markdown",
   "metadata": {},
   "source": [
    "$W_{ij} =                      \n",
    "\\begin{bmatrix}\n",
    "    0.1 & 0.2 & 0.4 & 0.3 \\\\\n",
    "    0.5 & 0.4 & 0.7 & 0.9 \\\\\n",
    "    0.2 & 0.6 & 0.3 & 0.8 \\\\\n",
    "\\end{bmatrix}$\n",
    "$and$\n",
    "$W_{jk} = \n",
    "\\begin{bmatrix}\n",
    "    0.2 \\\\\n",
    "    0.3 \\\\\n",
    "    0.6 \\\\\n",
    "    0.1 \\\\\n",
    "\\end{bmatrix}$\n"
   ]
  },
  {
   "cell_type": "markdown",
   "metadata": {},
   "source": [
    "****Input:****"
   ]
  },
  {
   "cell_type": "markdown",
   "metadata": {},
   "source": [
    "$i = \n",
    "\\begin{bmatrix}\n",
    "    0.1 \\\\\n",
    "    0.4 \\\\\n",
    "    0.5 \\\\\n",
    "\\end{bmatrix}$\n"
   ]
  },
  {
   "cell_type": "markdown",
   "metadata": {},
   "source": [
    "****output:****"
   ]
  },
  {
   "cell_type": "markdown",
   "metadata": {},
   "source": [
    "$o = \n",
    "\\begin{bmatrix}\n",
    "    1 \\\\\n",
    "\\end{bmatrix}$"
   ]
  },
  {
   "cell_type": "markdown",
   "metadata": {},
   "source": [
    "The activation function of the hidden layer will be the ReLU function and the activation function of the output layer will be the Sigmoid function."
   ]
  },
  {
   "cell_type": "markdown",
   "metadata": {},
   "source": [
    "let's begin our calculculations:"
   ]
  },
  {
   "cell_type": "code",
   "execution_count": 12,
   "metadata": {
    "collapsed": true
   },
   "outputs": [],
   "source": [
    "# import our dependencies\n",
    "from numpy import dot\n",
    "\n",
    "i = array([[0.1, 0.4, 0.5]])\n",
    "\n",
    "w_ij = array([[0.1, 0.2, 0.4, 0.3],\n",
    "              [0.5, 0.4, 0.7, 0.9],\n",
    "              [0.2, 0.6, 0.3, 0.8]])\n",
    "\n",
    "w_jk = array([[0.2],\n",
    "              [0.3],\n",
    "              [0.6],\n",
    "              [0.1]])\n",
    "\n",
    "z_ij = dot(i, w_ij) # calculating the dot product of the inputs and weights of the hidden layer\n",
    "a_ij = ReLU(z_ij) # applying the ReLU activation function\n",
    "\n",
    "z_jk = dot(a_ij, w_jk) # the dot product of the inputs in the hidden layer after activation and weights of the output layer\n",
    "a_jk = Sigmoid(z_jk) # applying the Sigmoid activation function "
   ]
  },
  {
   "cell_type": "code",
   "execution_count": 13,
   "metadata": {},
   "outputs": [
    {
     "data": {
      "text/plain": [
       "array([[ 0.63807065]])"
      ]
     },
     "execution_count": 13,
     "metadata": {},
     "output_type": "execute_result"
    }
   ],
   "source": [
    "# The final output of the feed forward neural network\n",
    "a_jk"
   ]
  },
  {
   "cell_type": "markdown",
   "metadata": {},
   "source": [
    "#### Cross entropy error:"
   ]
  },
  {
   "cell_type": "markdown",
   "metadata": {},
   "source": [
    "[**Cross-entropy loss**](http://ml-cheatsheet.readthedocs.io/en/latest/loss_functions.html), or log loss, measures the performance of a classification model whose output is a probability value between 0 and 1. Cross-entropy loss increases as the predicted probability diverges from the actual label. So predicting a probability of .012 when the actual observation label is 1 would be bad and result in a high loss value. A perfect model would have a log loss of 0."
   ]
  },
  {
   "cell_type": "markdown",
   "metadata": {},
   "source": [
    "#### Equation:"
   ]
  },
  {
   "cell_type": "markdown",
   "metadata": {},
   "source": [
    "$$L = - \\sum_{i}(y\\prime_{i} log(y_{i}) + (1 - y\\prime_{i}) log(1 - y_{i}))$$"
   ]
  },
  {
   "cell_type": "markdown",
   "metadata": {},
   "source": [
    "> Where $y_{i}$ is the predicted probability value for class $i$ and $y\\prime_{i}$ is the true probability for that class."
   ]
  },
  {
   "cell_type": "markdown",
   "metadata": {},
   "source": [
    "#### Programmatically:"
   ]
  },
  {
   "cell_type": "code",
   "execution_count": 14,
   "metadata": {
    "collapsed": true
   },
   "outputs": [],
   "source": [
    "from numpy import log10\n",
    "\n",
    "# cross entropy error function\n",
    "def crossentropyerror(a, y):\n",
    "    return - sum(y * log10(a) + (1 - y) * log10(1 - a))"
   ]
  },
  {
   "cell_type": "code",
   "execution_count": 15,
   "metadata": {
    "collapsed": true
   },
   "outputs": [],
   "source": [
    "a = a_jk # the output of the neural network\n",
    "y = array([[1]]) # the ground truth"
   ]
  },
  {
   "cell_type": "code",
   "execution_count": 16,
   "metadata": {},
   "outputs": [
    {
     "data": {
      "text/plain": [
       "0.19513122954797735"
      ]
     },
     "execution_count": 16,
     "metadata": {},
     "output_type": "execute_result"
    }
   ],
   "source": [
    "crossentropyerror(a, y)"
   ]
  },
  {
   "cell_type": "markdown",
   "metadata": {},
   "source": [
    "#### Conclusion:"
   ]
  },
  {
   "cell_type": "markdown",
   "metadata": {},
   "source": [
    "This is in a nutshell how a forward propagation works and how a neural network generates its predictions, the forward propagation step has always been less mathematically intense than the backpropagation step where most students and beginners find legitimately harder to grasp."
   ]
  },
  {
   "cell_type": "markdown",
   "metadata": {},
   "source": [
    "### Back-propagation:"
   ]
  },
  {
   "cell_type": "markdown",
   "metadata": {},
   "source": [
    "#### Definition:"
   ]
  },
  {
   "cell_type": "markdown",
   "metadata": {
    "collapsed": true
   },
   "source": [
    "[**Backpropagation**](https://en.wikipedia.org/wiki/Backpropagation) is a method used in artificial neural networks to calculate a gradient that is needed in the calculation of the weights to be used in the network."
   ]
  },
  {
   "cell_type": "markdown",
   "metadata": {},
   "source": [
    "#### Calculations:"
   ]
  },
  {
   "cell_type": "markdown",
   "metadata": {},
   "source": [
    "first let's lay some important derivatives:"
   ]
  },
  {
   "cell_type": "markdown",
   "metadata": {},
   "source": [
    "#### Cross entropy error derivative:"
   ]
  },
  {
   "cell_type": "markdown",
   "metadata": {},
   "source": [
    "$$\\frac{\\partial L}{\\partial y_{i}} = \\frac{-y\\prime_{i}}{y_{i}} + \\frac{(1 - y\\prime_{i})}{(1 - y_{i})}$$"
   ]
  },
  {
   "cell_type": "markdown",
   "metadata": {},
   "source": [
    "#### Sigmoid derivative:"
   ]
  },
  {
   "cell_type": "markdown",
   "metadata": {
    "collapsed": true
   },
   "source": [
    "$$\\frac{\\partial Sigmoid(x)}{\\partial x} = Sigmoid(x) \\times (1 - Sigmoid(x))$$"
   ]
  },
  {
   "cell_type": "markdown",
   "metadata": {},
   "source": [
    "#### Graphical Representation:"
   ]
  },
  {
   "cell_type": "markdown",
   "metadata": {},
   "source": [
    "![](https://i.stack.imgur.com/QdlcW.jpg)"
   ]
  },
  {
   "cell_type": "markdown",
   "metadata": {},
   "source": [
    "#### Programmatically:"
   ]
  },
  {
   "cell_type": "code",
   "execution_count": 17,
   "metadata": {
    "collapsed": true
   },
   "outputs": [],
   "source": [
    "# Derivative of the Sigmoid activation function\n",
    "def SigmoidDerivative(x):\n",
    "    return Sigmoid(x) * (1 - Sigmoid(x))"
   ]
  },
  {
   "cell_type": "code",
   "execution_count": 18,
   "metadata": {},
   "outputs": [
    {
     "data": {
      "text/plain": [
       "<matplotlib.text.Text at 0xbf370f0>"
      ]
     },
     "execution_count": 18,
     "metadata": {},
     "output_type": "execute_result"
    },
    {
     "data": {
      "image/png": "[encoded data removed]",
      "text/plain": [
       "<matplotlib.figure.Figure at 0xba77198>"
      ]
     },
     "metadata": {},
     "output_type": "display_data"
    }
   ],
   "source": [
    "# Graphical representation of the Sigmoid derivative\n",
    "x = array(range(-10, 10))\n",
    "plt.plot(x, SigmoidDerivative(x))\n",
    "plt.title(\"Derivative of Sigmoid\")\n",
    "plt.xlabel(\"x\")\n",
    "plt.ylabel(\"Sigmoid Derivative\")"
   ]
  },
  {
   "cell_type": "markdown",
   "metadata": {},
   "source": [
    "#### ReLU derivative:"
   ]
  },
  {
   "cell_type": "markdown",
   "metadata": {},
   "source": [
    "\\begin{equation}\n",
    "   \\frac{\\partial ReLU(x)}{\\partial x}=\\begin{cases}\n",
    "    1, & \\text{if $x>0$}.\\\\\n",
    "    0, & \\text{otherwise}.\n",
    "  \\end{cases}\n",
    "\\end{equation}"
   ]
  },
  {
   "cell_type": "markdown",
   "metadata": {},
   "source": [
    "#### Graphical Representation:"
   ]
  },
  {
   "cell_type": "markdown",
   "metadata": {},
   "source": [
    "![](https://cdn-images-1.medium.com/max/1600/1*g0yxlK8kEBw8uA1f82XQdA.png)"
   ]
  },
  {
   "cell_type": "markdown",
   "metadata": {},
   "source": [
    "#### Programmatically:"
   ]
  },
  {
   "cell_type": "code",
   "execution_count": 19,
   "metadata": {
    "collapsed": true
   },
   "outputs": [],
   "source": [
    "# Derivative of the ReLU activation function\n",
    "def ReLUDerivative(x):\n",
    "    return 1. * (x > 0)"
   ]
  },
  {
   "cell_type": "code",
   "execution_count": 20,
   "metadata": {},
   "outputs": [
    {
     "data": {
      "text/plain": [
       "<matplotlib.text.Text at 0xc118d30>"
      ]
     },
     "execution_count": 20,
     "metadata": {},
     "output_type": "execute_result"
    },
    {
     "data": {
      "image/png": "[encoded data removed]",
      "text/plain": [
       "<matplotlib.figure.Figure at 0xc0ec828>"
      ]
     },
     "metadata": {},
     "output_type": "display_data"
    }
   ],
   "source": [
    "# Graphical representation of the ReLU derivative\n",
    "x = array(range(-10, 10))\n",
    "plt.plot(x, ReLUDerivative(x))\n",
    "plt.title(\"Derivative of ReLU\")\n",
    "plt.xlabel(\"x\")\n",
    "plt.ylabel(\"ReLU Derivative\")"
   ]
  },
  {
   "cell_type": "markdown",
   "metadata": {},
   "source": [
    "Let's now demonstrate the calculations that go underneath the Backpropagation process:"
   ]
  },
  {
   "cell_type": "markdown",
   "metadata": {},
   "source": [
    "An illustration of how a neural network backpropagates its error:"
   ]
  },
  {
   "cell_type": "markdown",
   "metadata": {},
   "source": [
    "![](https://matthewmazur.files.wordpress.com/2018/03/output_1_backprop-4.png?w=525)"
   ]
  },
  {
   "cell_type": "markdown",
   "metadata": {},
   "source": [
    "#### Programmatically:"
   ]
  },
  {
   "cell_type": "code",
   "execution_count": 21,
   "metadata": {
    "collapsed": true
   },
   "outputs": [],
   "source": [
    "# Backpropagation from the output layer to the hidden layer\n",
    "dl_jk = -y/a_jk + (1 - y)/(1 - a_jk) # the derivative of the cross entropy loss wrt output\n",
    "da_jk = SigmoidDerivative(z_jk) # the derivative of Sigmoid wrt the input (before activation) of the output layer\n",
    "dz_jk = a_ij # the derivative of the inputs of the hidden layer (before activation) wrt weights of the output layer  \n",
    "gradient_jk = dot(dz_jk.T , dl_jk * da_jk) # chain rule"
   ]
  },
  {
   "cell_type": "code",
   "execution_count": 22,
   "metadata": {},
   "outputs": [
    {
     "data": {
      "text/plain": [
       "array([[-0.1121981 ],\n",
       "       [-0.17372609],\n",
       "       [-0.17010679],\n",
       "       [-0.28592418]])"
      ]
     },
     "execution_count": 22,
     "metadata": {},
     "output_type": "execute_result"
    }
   ],
   "source": [
    "gradient_jk"
   ]
  },
  {
   "cell_type": "code",
   "execution_count": 23,
   "metadata": {
    "collapsed": true
   },
   "outputs": [],
   "source": [
    "# Backpropagation from the hidden layer to the output layer\n",
    "dl_ij = dot(da_jk * dl_jk, w_jk.T) # the derivative of the cross entropy loss wrt hidden layer input (after activation)\n",
    "da_ij = ReLUDerivative(z_ij) # the derivative of the ReLU function wrt the input (before activation) of the hidden layer\n",
    "dz_ij = i # the derivative of the inputs of the hidden layer (before activation) wrt weights of the hidden layer \n",
    "gradient_ij = dot(dz_ij.T , dl_ij * da_ij) # chain rule"
   ]
  },
  {
   "cell_type": "code",
   "execution_count": 24,
   "metadata": {},
   "outputs": [
    {
     "data": {
      "text/plain": [
       "array([[-0.00723859, -0.01085788, -0.02171576, -0.00361929],\n",
       "       [-0.02895435, -0.04343152, -0.08686304, -0.01447717],\n",
       "       [-0.03619293, -0.0542894 , -0.1085788 , -0.01809647]])"
      ]
     },
     "execution_count": 24,
     "metadata": {},
     "output_type": "execute_result"
    }
   ],
   "source": [
    "gradient_ij"
   ]
  },
  {
   "cell_type": "code",
   "execution_count": 25,
   "metadata": {
    "collapsed": true
   },
   "outputs": [],
   "source": [
    "# The new weights we get after the backpropagation process\n",
    "w_ij = w_ij - gradient_ij \n",
    "w_jk = w_jk - gradient_jk"
   ]
  },
  {
   "cell_type": "code",
   "execution_count": 26,
   "metadata": {},
   "outputs": [
    {
     "name": "stdout",
     "output_type": "stream",
     "text": [
      "New synaptic weights after the backpropagation process: \n",
      "w_ij:  [[ 0.10723859  0.21085788  0.42171576  0.30361929]\n",
      " [ 0.52895435  0.44343152  0.78686304  0.91447717]\n",
      " [ 0.23619293  0.6542894   0.4085788   0.81809647]]\n",
      "w_jk:  [[ 0.3121981 ]\n",
      " [ 0.47372609]\n",
      " [ 0.77010679]\n",
      " [ 0.38592418]]\n"
     ]
    }
   ],
   "source": [
    "print(\"New synaptic weights after the backpropagation process: \")\n",
    "print(\"w_ij: \", w_ij)\n",
    "print(\"w_jk: \", w_jk)"
   ]
  },
  {
   "cell_type": "markdown",
   "metadata": {},
   "source": [
    "let's now predict the output with the new updated weights"
   ]
  },
  {
   "cell_type": "code",
   "execution_count": 27,
   "metadata": {
    "collapsed": true
   },
   "outputs": [],
   "source": [
    "i = array([[0.1, 0.4, 0.5]])\n",
    "\n",
    "# new hidden layer weights\n",
    "w_ij = array([[ 0.10723859,  0.21085788,  0.42171576,  0.30361929],\n",
    "              [ 0.52895435,  0.44343152,  0.78686304,  0.91447717],\n",
    "              [ 0.23619293,  0.6542894,   0.4085788,   0.81809647]])\n",
    "\n",
    "# new output layer weights\n",
    "w_jk = array([[ 0.3121981 ],\n",
    "              [ 0.47372609],\n",
    "              [ 0.77010679],\n",
    "              [ 0.38592418]])\n",
    "\n",
    "z_ij = dot(i, w_ij) # calculating the dot product of the inputs and weights of the hidden layer\n",
    "a_ij = ReLU(z_ij) # applying the ReLU activation function\n",
    "\n",
    "z_jk = dot(a_ij, w_jk) # the dot product of the inputs in the hidden layer after activation and weights of the output layer\n",
    "a_jk = Sigmoid(z_jk) # applying the Sigmoid activation function "
   ]
  },
  {
   "cell_type": "code",
   "execution_count": 28,
   "metadata": {},
   "outputs": [
    {
     "data": {
      "text/plain": [
       "array([[ 0.74992269]])"
      ]
     },
     "execution_count": 28,
     "metadata": {},
     "output_type": "execute_result"
    }
   ],
   "source": [
    "# the new predicted output as you will see is closer to the ground truth than the initial output before backpropagation\n",
    "a_jk "
   ]
  },
  {
   "cell_type": "markdown",
   "metadata": {},
   "source": [
    "Congratulations! you've just done forward and backpropagation with just a few lines of code."
   ]
  },
  {
   "cell_type": "markdown",
   "metadata": {
    "collapsed": true
   },
   "source": [
    "### Building a one hidden layer Neural Network:"
   ]
  },
  {
   "cell_type": "markdown",
   "metadata": {},
   "source": [
    "let's now build a fully functional multilayer artificial neural network, our neural network will tackle the XOR task.\n"
   ]
  },
  {
   "cell_type": "markdown",
   "metadata": {},
   "source": [
    "![](https://cdn-images-1.medium.com/max/800/1*WlCd6kgxqb2yQpcutLhYwQ.png)"
   ]
  },
  {
   "cell_type": "markdown",
   "metadata": {},
   "source": [
    "the ANN's architecture will look like this:"
   ]
  },
  {
   "cell_type": "markdown",
   "metadata": {},
   "source": [
    "![](https://cdn-images-1.medium.com/max/1600/1*-a-flCLHLCGM0-7TOcNJnQ.png)"
   ]
  },
  {
   "cell_type": "markdown",
   "metadata": {},
   "source": [
    "### Code:"
   ]
  },
  {
   "cell_type": "code",
   "execution_count": 29,
   "metadata": {
    "scrolled": false
   },
   "outputs": [
    {
     "name": "stdout",
     "output_type": "stream",
     "text": [
      "Layer 1 (4 neurons, each with 3 inputs): \n",
      "w_ij:  [[-0.16595599  0.44064899 -0.99977125 -0.39533485]\n",
      " [-0.70648822 -0.81532281 -0.62747958 -0.30887855]\n",
      " [-0.20646505  0.07763347 -0.16161097  0.370439  ]]\n",
      "Layer 2 (1 neuron, with 4 inputs): \n",
      "w_jk:  [[-0.5910955 ]\n",
      " [ 0.75623487]\n",
      " [-0.94522481]\n",
      " [ 0.34093502]]\n",
      "loss:  2.07175185207\n",
      "loss:  0.0252235360038\n",
      "loss:  0.00812448219046\n",
      "loss:  0.00483745527192\n",
      "loss:  0.00344285541416\n",
      "loss:  0.00267203784984\n",
      "loss:  0.00218307936662\n",
      "loss:  0.0018453146627\n",
      "loss:  0.00159802272115\n",
      "loss:  0.0014091540602\n",
      "New synaptic weights after training: \n",
      "w_ij:  [[  0.15412064   5.61526375  -6.92492097 -10.55136518]\n",
      " [  0.13145897 -10.51956567  -6.93646143   5.44436653]\n",
      " [ -0.01611526  -0.75294181   0.19272139  -0.54865495]]\n",
      "w_jk:  [[-13.08177073]\n",
      " [ 15.15669436]\n",
      " [-31.14768507]\n",
      " [ 15.0867679 ]]\n",
      "Considering new situation [1, 1, 0] -> ?: \n",
      "(array([[  5.70913606e-01,   7.36004539e-03,   9.55163456e-07,\n",
      "          6.01779348e-03]]), array([[ 0.00069824]]))\n"
     ]
    }
   ],
   "source": [
    "# Import our dependencies\n",
    "from numpy import exp, array, random, dot, ones_like, where, log10\n",
    "\n",
    "# Create our Artificial Neural Network class\n",
    "class ArtificialNeuralNetwork():\n",
    "    \n",
    "    # initializing the class\n",
    "    def __init__(self):\n",
    "        \n",
    "        # generating the same synaptic weights every time the program runs\n",
    "        random.seed(1)\n",
    "        \n",
    "        # synaptic weights (3 × 4 Matrix) of the hidden layer \n",
    "        self.w_ij = 2 * random.rand(3, 4) - 1\n",
    "        \n",
    "        # synaptic weights (4 × 1 Matrix) of the output layer\n",
    "        self.w_jk = 2 * random.rand(4, 1) - 1\n",
    "    \n",
    "    def Sigmoid(self, x):\n",
    "        \n",
    "        # The Sigmoid activation function will turn every input value into probabilities between 0 and 1\n",
    "        # the probabilistic values help us assert which class x belongs to\n",
    "        \n",
    "        return 1 / (1 + exp(-x))\n",
    "    \n",
    "    def SigmoidDerivative(self, x):\n",
    "        \n",
    "        # The derivative of Sigmoid will be used to calculate the gradient during the backpropagation process\n",
    "        # and help optimize the random starting synaptic weights\n",
    "        \n",
    "        return x * (1 - x)\n",
    "    \n",
    "    def crossentropyerror(self, a, y):\n",
    "        \n",
    "        # The cross entropy loss function\n",
    "        # we use it to evaluate the performance of our model\n",
    "        \n",
    "        return - sum(y * log10(a) + (1 - y) * log10(1 - a))\n",
    "    \n",
    "    def train(self, x, y, learning_rate, iterations):\n",
    "        \n",
    "        # x: training set of data\n",
    "        # y: the actual output of the training data\n",
    "        \n",
    "        for i in range(iterations):\n",
    "            \n",
    "            z_ij = dot(x, self.w_ij) # the dot product of the weights of the hidden layer and the inputs\n",
    "            a_ij = self.Sigmoid(z_ij) # applying the Sigmoid activation function\n",
    "            \n",
    "            z_jk = dot(a_ij, self.w_jk) # the same previous process will be applied to find the predicted output\n",
    "            a_jk = self.Sigmoid(z_jk)  \n",
    "            \n",
    "            dl_jk = -y/a_jk + (1 - y)/(1 - a_jk) # the derivative of the cross entropy loss wrt output\n",
    "            da_jk = self.SigmoidDerivative(a_jk) # the derivative of Sigmoid  wrt the input (before activ.) of the output layer\n",
    "            dz_jk = a_ij # the derivative of the inputs of the hidden layer (before activation) wrt weights of the output layer\n",
    "            \n",
    "            dl_ij = dot(da_jk * dl_jk, self.w_jk.T) # the derivative of cross entropy loss wrt hidden layer input (after activ.)\n",
    "            da_ij = self.SigmoidDerivative(a_ij) # the derivative of Sigmoid wrt the inputs of the hidden layer (before activ.)\n",
    "            dz_ij = x # the derivative of the inputs of the hidden layer (before activation) wrt weights of the hidden layer\n",
    "            \n",
    "            # calculating the gradient using the chain rule\n",
    "            gradient_ij = dot(dz_ij.T , dl_ij * da_ij)\n",
    "            gradient_jk = dot(dz_jk.T , dl_jk * da_jk)\n",
    "            \n",
    "            # calculating the new optimal weights\n",
    "            self.w_ij = self.w_ij - learning_rate * gradient_ij \n",
    "            self.w_jk = self.w_jk - learning_rate * gradient_jk\n",
    "            \n",
    "            # printing the loss of our neural network after each 1000 iteration\n",
    "            if i % 1000 == 0 in range(iterations):\n",
    "                print(\"loss: \", self.crossentropyerror(a_jk, y))\n",
    "                  \n",
    "    def predict(self, inputs):\n",
    "        \n",
    "        # predicting the class of the input data after weights optimization\n",
    "        \n",
    "        output_from_layer1 = self.Sigmoid(dot(inputs, self.w_ij)) # the output of the hidden layer\n",
    "        \n",
    "        output_from_layer2 = self.Sigmoid(dot(output_from_layer1, self.w_jk)) # the output of the output layer\n",
    "        \n",
    "        return output_from_layer1, output_from_layer2\n",
    "    \n",
    "    # the function will print the initial starting weights before training\n",
    "    def SynapticWeights(self):\n",
    "        \n",
    "        print(\"Layer 1 (4 neurons, each with 3 inputs): \")\n",
    "        \n",
    "        print(\"w_ij: \", self.w_ij)\n",
    "        \n",
    "        print(\"Layer 2 (1 neuron, with 4 inputs): \")\n",
    "        \n",
    "        print(\"w_jk: \", self.w_jk)\n",
    "\n",
    "    \n",
    "def main():\n",
    "    \n",
    "    ANN = ArtificialNeuralNetwork()\n",
    "    \n",
    "    ANN.SynapticWeights()\n",
    "    \n",
    "    # the training inputs \n",
    "    # the last column is used to add non linearity to the clasification task\n",
    "    x = array([[0, 0, 1], \n",
    "               [0, 1, 1], \n",
    "               [1, 0, 1], \n",
    "               [0, 1, 0], \n",
    "               [1, 0, 0], \n",
    "               [1, 1, 1], \n",
    "               [0, 0, 0]])\n",
    "    \n",
    "    # the training outputs\n",
    "    y = array([[0, 1, 1, 1, 1, 0, 0]]).T\n",
    "\n",
    "    ANN.train(x, y, 1, 10000)\n",
    "    \n",
    "    # Printing the new synaptic weights after training\n",
    "    print(\"New synaptic weights after training: \")\n",
    "    print(\"w_ij: \", ANN.w_ij)\n",
    "    print(\"w_jk: \", ANN.w_jk)\n",
    "    \n",
    "    # Our prediction after feeding the ANN with new set of data\n",
    "    print(\"Considering new situation [1, 1, 0] -> ?: \")\n",
    "    print(ANN.predict(array([[1, 1, 0]])))\n",
    "    \n",
    "if __name__==\"__main__\":\n",
    "    main()"
   ]
  },
  {
   "cell_type": "markdown",
   "metadata": {},
   "source": [
    "***Vizualization of the loss function:***"
   ]
  },
  {
   "cell_type": "code",
   "execution_count": 30,
   "metadata": {},
   "outputs": [
    {
     "data": {
      "text/plain": [
       "<matplotlib.text.Text at 0xc1c6b00>"
      ]
     },
     "execution_count": 30,
     "metadata": {},
     "output_type": "execute_result"
    },
    {
     "data": {
      "image/png": "[encoded data removed]",
      "text/plain": [
       "<matplotlib.figure.Figure at 0xbf5a898>"
      ]
     },
     "metadata": {},
     "output_type": "display_data"
    }
   ],
   "source": [
    "# Visualizing the loss function\n",
    "weights = array(range(10)) # the weights after each 1000 iteration\n",
    "loss = array([2.0717518, 0.0252235, 0.0081244, 0.0048374, 0.0034428, 0.0026720, 0.0021830, 0.0018453, 0.0015980, 0.0014091])\n",
    "plt.plot(weights, loss)\n",
    "plt.title(\"Loss evaluation\")\n",
    "plt.xlabel(\"Weights\")\n",
    "plt.ylabel(\"Loss\")"
   ]
  },
  {
   "cell_type": "markdown",
   "metadata": {},
   "source": [
    "## Conclusion:"
   ]
  },
  {
   "cell_type": "markdown",
   "metadata": {},
   "source": [
    "With the appearance of Big Data, more Computational power and more challenging and mathematically intense tasks,  Neural Networks will be used more than ever."
   ]
  },
  {
   "cell_type": "markdown",
   "metadata": {},
   "source": [
    "## References:"
   ]
  },
  {
   "cell_type": "markdown",
   "metadata": {},
   "source": [
    "- https://en.wikipedia.org/wiki/Artificial_neural_network\n",
    "\n",
    "- https://en.wikipedia.org/wiki/Activation_function\n",
    "\n",
    "- https://en.wikipedia.org/wiki/Sigmoid_function\n",
    "\n",
    "- https://theclevermachine.wordpress.com/tag/tanh-function/\n",
    "\n",
    "- http://dataaspirant.com/2017/03/07/difference-between-softmax-function-and-sigmoid-function/\n",
    "\n",
    "- https://github.com/Kulbear/deep-learning-nano-foundation/wiki/ReLU-and-Softmax-Activation-Functions\n",
    "\n",
    "- http://ml-cheatsheet.readthedocs.io/en/latest/loss_functions.html\n",
    "\n",
    "- https://en.wikipedia.org/wiki/Backpropagation"
   ]
  }
 ],
 "metadata": {
  "kernelspec": {
   "display_name": "Python 3",
   "language": "python",
   "name": "python3"
  },
  "language_info": {
   "codemirror_mode": {
    "name": "ipython",
    "version": 3
   },
   "file_extension": ".py",
   "mimetype": "text/x-python",
   "name": "python",
   "nbconvert_exporter": "python",
   "pygments_lexer": "ipython3",
   "version": "3.7.3"
  }
 },
 "nbformat": 4,
 "nbformat_minor": 2
}
