{
 "cells": [
  {
   "cell_type": "code",
   "execution_count": 2,
   "metadata": {},
   "outputs": [
    {
     "name": "stdout",
     "output_type": "stream",
     "text": [
      "[[ 8 13]\n",
      " [ 5 10]\n",
      " [ 8  4]\n",
      " [ 4 13]\n",
      " [ 8  5]\n",
      " [10 10]\n",
      " [15 10]\n",
      " [ 2 14]\n",
      " [ 0 10]\n",
      " [11  2]]\n",
      "[[ 5]\n",
      " [15]\n",
      " [12]\n",
      " [ 1]\n",
      " [13]\n",
      " [ 4]\n",
      " [ 9]\n",
      " [ 0]\n",
      " [10]\n",
      " [13]]\n"
     ]
    }
   ],
   "source": [
    "import numpy as np\n",
    "\n",
    "data_x = np.random.randint(0, 16, size=(10000, 2)) #随机产生0-15范围的1万组数，每组2个\n",
    "data_y = data_x.sum(axis=1).reshape(10000,1) % 16 #求出每行和，并按16求余\n",
    "\n",
    "np.savez('add_date.npz', x=data_x, y=data_y)\n",
    "\n",
    "test_x = np.random.randint(0, 16, size=(10, 2)) #随机产生0-15范围的1万组数，每组2个\n",
    "test_y = test_x.sum(axis=1).reshape(10,1) % 16 #求出每行和，并按16求余\n",
    "\n",
    "np.savez('add_date_t.npz', x=test_x, y=test_y)\n",
    "test_data = np.load('add_date_t.npz')\n",
    "print(test_data['x'])\n",
    "print(test_data['y'])"
   ]
  },
  {
   "cell_type": "code",
   "execution_count": null,
   "metadata": {},
   "outputs": [],
   "source": []
  }
 ],
 "metadata": {
  "kernelspec": {
   "display_name": "Python 3",
   "language": "python",
   "name": "python3"
  },
  "language_info": {
   "codemirror_mode": {
    "name": "ipython",
    "version": 3
   },
   "file_extension": ".py",
   "mimetype": "text/x-python",
   "name": "python",
   "nbconvert_exporter": "python",
   "pygments_lexer": "ipython3",
   "version": "3.7.6"
  }
 },
 "nbformat": 4,
 "nbformat_minor": 4
}
