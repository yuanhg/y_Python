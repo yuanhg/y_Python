{
 "cells": [
  {
   "cell_type": "code",
   "execution_count": 11,
   "metadata": {},
   "outputs": [],
   "source": [
    "import numpy as np\n",
    "\n",
    "def adp(n = 16, num = 10000, num_t = 10):\n",
    "    data_x = np.random.randint(0, n, size=(num, 2)) #随机产生0-15范围的1万组数，每组2个\n",
    "    data_y = data_x.sum(axis=1).reshape(num,1) % n #求出每行和，并按16求余\n",
    "\n",
    "    savefile = 'add_' + str(n) + '.npz'\n",
    "    np.savez(savefile, x=data_x, y=data_y)\n",
    "\n",
    "    test_x = np.random.randint(0, n, size=(num_t, 2)) #随机产生0-15范围的1万组数，每组2个\n",
    "    test_y = test_x.sum(axis=1).reshape(num_t,1) % n #求出每行和，并按16求余\n",
    "\n",
    "    savefile = 'add_' + str(n) + '_t.npz'\n",
    "    np.savez(savefile, x=test_x, y=test_y)"
   ]
  },
  {
   "cell_type": "code",
   "execution_count": 12,
   "metadata": {},
   "outputs": [
    {
     "name": "stdout",
     "output_type": "stream",
     "text": [
      "[[1 3]\n",
      " [1 1]\n",
      " [1 1]\n",
      " [3 3]\n",
      " [3 0]\n",
      " [2 3]\n",
      " [2 1]\n",
      " [4 4]\n",
      " [3 3]\n",
      " [0 2]]\n",
      "[[4]\n",
      " [2]\n",
      " [2]\n",
      " [1]\n",
      " [3]\n",
      " [0]\n",
      " [3]\n",
      " [3]\n",
      " [1]\n",
      " [2]]\n"
     ]
    }
   ],
   "source": [
    "adp(5,10000,10)\n",
    "\n",
    "test_data = np.load('add_5_t.npz')\n",
    "print(test_data['x'])\n",
    "print(test_data['y'])"
   ]
  },
  {
   "cell_type": "code",
   "execution_count": null,
   "metadata": {},
   "outputs": [],
   "source": []
  }
 ],
 "metadata": {
  "kernelspec": {
   "display_name": "Python 3",
   "language": "python",
   "name": "python3"
  },
  "language_info": {
   "codemirror_mode": {
    "name": "ipython",
    "version": 3
   },
   "file_extension": ".py",
   "mimetype": "text/x-python",
   "name": "python",
   "nbconvert_exporter": "python",
   "pygments_lexer": "ipython3",
   "version": "3.7.6"
  }
 },
 "nbformat": 4,
 "nbformat_minor": 4
}
