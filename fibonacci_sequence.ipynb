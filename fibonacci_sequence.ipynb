{
 "cells": [
  {
   "cell_type": "code",
   "execution_count": 1,
   "metadata": {},
   "outputs": [
    {
     "data": {
      "text/plain": [
       "'Example Fibonacci sequence: 0,1,1,2,3,5,8,13,21,34, ...'"
      ]
     },
     "execution_count": 1,
     "metadata": {},
     "output_type": "execute_result"
    }
   ],
   "source": [
    "\"\"\"Example Fibonacci sequence: 0,1,1,2,3,5,8,13,21,34, ...\"\"\""
   ]
  },
  {
   "cell_type": "code",
   "execution_count": 4,
   "metadata": {},
   "outputs": [
    {
     "name": "stdout",
     "output_type": "stream",
     "text": [
      "Enter the number of terms:10\n",
      "0 1 1 2 3 5 8 13 21 34 "
     ]
    }
   ],
   "source": [
    "'''使用递归生成斐波那契数列'''\n",
    "n = input('Enter the number of terms:')\n",
    "def fibo(n):\n",
    "    if n <= 1:\n",
    "        return n\n",
    "    else:\n",
    "        return(fibo(n-1)+fibo(n-2))\n",
    "for i in range(int(n)):\n",
    "    print(fibo(i),end=' ')"
   ]
  },
  {
   "cell_type": "code",
   "execution_count": 1,
   "metadata": {},
   "outputs": [
    {
     "name": "stdout",
     "output_type": "stream",
     "text": [
      "Enter the number of terms:10\n",
      "[0, 1, 1, 2, 3, 5, 8, 13, 21, 34]\n"
     ]
    }
   ],
   "source": [
    "'''使用循环、yield生成函数生成斐波那契数列'''\n",
    "n = input('Enter the number of terms:')\n",
    "def fibo(n):\n",
    "    f0, f1 = 0, 1\n",
    "    for _ in range(int(n)):\n",
    "        yield f0\n",
    "        f0, f1 = f1, f0+f1\n",
    "fibs = list(fibo(int(n)))\n",
    "print(fibs)"
   ]
  },
  {
   "cell_type": "code",
   "execution_count": 10,
   "metadata": {},
   "outputs": [
    {
     "name": "stdout",
     "output_type": "stream",
     "text": [
      "Enter the number of terms:10\n",
      "0 ,1 ,1 ,2 ,3 ,5 ,8 ,13 ,21 ,34 ,"
     ]
    }
   ],
   "source": [
    "'''使用yield生成函数生成斐波那契数列'''\n",
    "n = input('Enter the number of terms:')\n",
    "def fibo():\n",
    "    f0, f1 = 0, 1\n",
    "    while True:\n",
    "        yield f0\n",
    "        f0, f1 = f1, f0+f1\n",
    "fibs = fibo()\n",
    "for _ in range(int(n)):\n",
    "    print (next(fibs), ',',end='')"
   ]
  },
  {
   "cell_type": "code",
   "execution_count": 11,
   "metadata": {},
   "outputs": [
    {
     "name": "stdout",
     "output_type": "stream",
     "text": [
      "Enter the number of terms:10\n",
      "[0, 1, 1, 2, 3, 5, 8, 13, 21, 34]\n"
     ]
    }
   ],
   "source": [
    "'''使用Lambda, Reduce函数生成斐波那契数列'''\n",
    "from functools import reduce\n",
    "n = input('Enter the number of terms:')\n",
    "def fibo(n):\n",
    "    '''reduce函数返回的数为list，x+[x[-1]+x[-2]]是列表相加，range确定次数,[0,1]是初始值'''\n",
    "    return reduce(lambda x, _: x+[x[-1]+x[-2]],range(int(n)-2), [0,1])\n",
    "print(fibo(int(n)))"
   ]
  },
  {
   "cell_type": "code",
   "execution_count": 14,
   "metadata": {},
   "outputs": [
    {
     "name": "stdout",
     "output_type": "stream",
     "text": [
      "Enter the number of terms:10\n",
      "[0, 1, 1, 2, 3, 5, 8, 13, 21, 34]\n"
     ]
    }
   ],
   "source": [
    "'''使用Lambda, Map函数生成斐波那契数列'''\n",
    "n = input('Enter the number of terms:')\n",
    "def fibo(n):\n",
    "    fib_list = [0, 1]\n",
    "    any(map(lambda _: fib_list.append(sum(fib_list[-2:])), range(2, n)))\n",
    "    return fib_list[:n]\n",
    "\n",
    "print(fibo(int(n)))"
   ]
  },
  {
   "cell_type": "code",
   "execution_count": 34,
   "metadata": {},
   "outputs": [
    {
     "name": "stdout",
     "output_type": "stream",
     "text": [
      "[0, 1, 1, 2, 3, 5, 8, 13, 21, 34, 55]\n"
     ]
    }
   ],
   "source": [
    "'''使用Lambda, Map函数生成斐波那契数列'''\n",
    "#n = input('Enter the number of terms:')\n",
    "def fibo(n):\n",
    "    fib_list = [0, 1]\n",
    "    list(map(lambda _: fib_list.append(sum(fib_list[-2:])), range(2, n)))\n",
    "    return fib_list[:n]\n",
    "\n",
    "print(fibo(11))"
   ]
  },
  {
   "cell_type": "code",
   "execution_count": null,
   "metadata": {},
   "outputs": [],
   "source": []
  }
 ],
 "metadata": {
  "kernelspec": {
   "display_name": "Python 3",
   "language": "python",
   "name": "python3"
  },
  "language_info": {
   "codemirror_mode": {
    "name": "ipython",
    "version": 3
   },
   "file_extension": ".py",
   "mimetype": "text/x-python",
   "name": "python",
   "nbconvert_exporter": "python",
   "pygments_lexer": "ipython3",
   "version": "3.7.3"
  }
 },
 "nbformat": 4,
 "nbformat_minor": 2
}
