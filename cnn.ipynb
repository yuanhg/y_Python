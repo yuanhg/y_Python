{
 "cells": [
  {
   "cell_type": "code",
   "execution_count": null,
   "metadata": {},
   "outputs": [],
   "source": [
    "import numpy as np \n",
    "import matplotlib.pyplot as plt \n",
    "import tensorflow as tf"
   ]
  },
  {
   "cell_type": "code",
   "execution_count": null,
   "metadata": {},
   "outputs": [],
   "source": [
    "# Define the number of points to generate \n",
    "num_points = 1200\n",
    "# Generate the data based on equation y = mx + c \n",
    "data = [] \n",
    "m = 0.2 \n",
    "c = 0.5 \n",
    "for i in range(num_points): \n",
    "    # Generate 'x' \n",
    "    x = np.random.normal(0.0, 0.8)\n",
    "    # Generate some noise \n",
    "    noise = np.random.normal(0.0, 0.04)\n",
    "    # Compute 'y' \n",
    "    y = m*x + c + noise \n",
    "    data.append([x, y])\n",
    "\n",
    "# Separate x and y \n",
    "x_data = [d[0] for d in data] \n",
    "y_data = [d[1] for d in data]\n",
    "\n",
    "# Plot the generated data \n",
    "plt.plot(x_data, y_data, 'ro') \n",
    "plt.title('Input data') \n",
    "plt.show()"
   ]
  },
  {
   "cell_type": "code",
   "execution_count": null,
   "metadata": {},
   "outputs": [],
   "source": [
    "# Generate weights and biases \n",
    "W = tf.Variable(tf.random_uniform([1], -1.0, 1.0)) \n",
    "b = tf.Variable(tf.zeros([1]))\n",
    "\n",
    "# Define equation for 'y' \n",
    "y = W * x_data + b\n",
    "# Define how to compute the loss \n",
    "loss = tf.reduce_mean(tf.square(y - y_data))\n",
    "# Define the gradient descent optimizer \n",
    "optimizer = tf.train.GradientDescentOptimizer(0.5) \n",
    "train = optimizer.minimize(loss)\n",
    "# Initialize all the variables \n",
    "init = tf.global_variables_initializer()\n",
    "# Start the tensorflow session and run it \n",
    "sess = tf.Session() \n",
    "sess.run(init)"
   ]
  },
  {
   "cell_type": "code",
   "execution_count": null,
   "metadata": {},
   "outputs": [],
   "source": [
    "# Start iterating \n",
    "num_iterations = 10 \n",
    "for step in range(num_iterations): \n",
    "    # Run the session \n",
    "    sess.run(train)\n",
    "    # Print the progress \n",
    "    print('ITERATION', step+1) \n",
    "    print('W =', sess.run(W)[0]) \n",
    "    print('b =', sess.run(b)[0]) \n",
    "    print('loss =', sess.run(loss))\n",
    "\n",
    "    \n",
    "# Plot the input data \n",
    "plt.plot(x_data, y_data, 'ro') \n",
    "# Plot the predicted output line \n",
    "plt.plot(x_data, sess.run(W) * x_data + sess.run(b))\n",
    "\n",
    "# Set plotting parameters \n",
    "plt.xlabel('Dimension 0') \n",
    "plt.ylabel('Dimension 1') \n",
    "plt.title('Iteration ' + str(step+1) + ' of ' + str(num_iterations)) \n",
    "plt.show()\n"
   ]
  },
  {
   "cell_type": "markdown",
   "metadata": {},
   "source": [
    "如何使用TensorFlow创建单层神经网络，并使用它来构建图像分类器？使用MNIST图像数据集来构建系统。它是包含手写的数字图像的数据集。其目标是构建一个能够正确识别每个图像中数字的分类器。"
   ]
  },
  {
   "cell_type": "code",
   "execution_count": null,
   "metadata": {},
   "outputs": [],
   "source": [
    "import argparse \n",
    "import tensorflow as tf \n",
    "from tensorflow.examples.tutorials.mnist import input_data"
   ]
  },
  {
   "cell_type": "code",
   "execution_count": null,
   "metadata": {},
   "outputs": [],
   "source": [
    "def build_arg_parser():\n",
    "    parser = argparse.ArgumentParser(description='Build a classifier using MNIST data')\n",
    "    parser.add_argument('--input_dir', dest='input_dir', type=str, default='./mnist_data', help='Directory for storing data')\n",
    "    return parser"
   ]
  },
  {
   "cell_type": "code",
   "execution_count": null,
   "metadata": {},
   "outputs": [],
   "source": [
    "if __name__ == '__main__':\n",
    "    args = build_arg_parser().parse_args()"
   ]
  },
  {
   "cell_type": "code",
   "execution_count": null,
   "metadata": {},
   "outputs": [],
   "source": [
    "mnist = input_data.read_data_sets(args.input_dir, one_hot=True)"
   ]
  },
  {
   "cell_type": "code",
   "execution_count": null,
   "metadata": {},
   "outputs": [],
   "source": [
    "from __future__ import absolute_import, division, print_function, unicode_literals\n",
    "\n",
    "# 导入TensorFlow和tf.keras\n",
    "import tensorflow as tf\n",
    "from tensorflow import keras\n",
    "\n",
    "# 导入辅助库\n",
    "import numpy as np\n",
    "import matplotlib.pyplot as plt\n",
    "\n",
    "print(tf.__version__)"
   ]
  },
  {
   "cell_type": "code",
   "execution_count": null,
   "metadata": {},
   "outputs": [],
   "source": [
    "fashion_mnist = keras.datasets.fashion_mnist\n",
    "\n",
    "(train_images, train_labels), (test_images, test_labels) = fashion_mnist.load_data()"
   ]
  },
  {
   "cell_type": "code",
   "execution_count": null,
   "metadata": {},
   "outputs": [],
   "source": [
    "class_names = ['T-shirt/top', 'Trouser', 'Pullover', 'Dress', 'Coat',\n",
    "               'Sandal', 'Shirt', 'Sneaker', 'Bag', 'Ankle boot']"
   ]
  },
  {
   "cell_type": "code",
   "execution_count": null,
   "metadata": {},
   "outputs": [],
   "source": []
  }
 ],
 "metadata": {
  "kernelspec": {
   "display_name": "Python 3",
   "language": "python",
   "name": "python3"
  },
  "language_info": {
   "codemirror_mode": {
    "name": "ipython",
    "version": 3
   },
   "file_extension": ".py",
   "mimetype": "text/x-python",
   "name": "python",
   "nbconvert_exporter": "python",
   "pygments_lexer": "ipython3",
   "version": "3.7.3"
  }
 },
 "nbformat": 4,
 "nbformat_minor": 2
}
