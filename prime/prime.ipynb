{
 "cells": [
  {
   "cell_type": "code",
   "execution_count": null,
   "metadata": {},
   "outputs": [],
   "source": [
    "#!/usr/bin/env python3\n",
    "# -*- coding: utf-8 -*-\n",
    "\n",
    "\n",
    "##素数函数生成器，求自然数中第xxx个素数\n",
    "def iter2():\n",
    "    n = 2\n",
    "    while True:\n",
    "        yield n\n",
    "        n += 1\n",
    "\n",
    "def _not_divisible(n):\n",
    "    return lambda x: x % n >0\n",
    "\n",
    "def prime():\n",
    "    \"\"\"返回一个素数\"\"\"\n",
    "    it = iter2()     #初始序列,由函数生成器 iter2() 产生\n",
    "    while True:\n",
    "        n = next(it)\n",
    "        yield n\n",
    "        it = filter(_not_divisible(n), it)    #构造新的序列，筛除能被第一个数n整除的数"
   ]
  },
  {
   "cell_type": "code",
   "execution_count": null,
   "metadata": {},
   "outputs": [],
   "source": [
    "#产生前 10000 个素数，并写入文件 primes100.txt\n",
    "pp = prime()\n",
    "\n",
    "with open('primes10000.txt', 'w', encoding='UTF-8') as pf:\n",
    "    for _ in range(10000):\n",
    "        pf.write(str(next(pp)) + ',')\n",
    "    "
   ]
  },
  {
   "cell_type": "code",
   "execution_count": null,
   "metadata": {},
   "outputs": [],
   "source": [
    "def primeNo( no ):  #打印出第x个素数\n",
    "    i = 0\n",
    "    p = prime()\n",
    "    while i<no:\n",
    "        n = next(p)\n",
    "        i += 1\n",
    "    return n\n",
    "    \n",
    "def prime_no(pp): #打印出素数prime是从2开始的第几个\n",
    "    no = 1\n",
    "    p = prime()\n",
    "    while pp != next(p):\n",
    "        no += 1\n",
    "    return no"
   ]
  },
  {
   "cell_type": "code",
   "execution_count": null,
   "metadata": {},
   "outputs": [],
   "source": [
    "#生成一个大的素数\n",
    "import rsa\n",
    "import math\n",
    "\n",
    "def is_prime(u):\n",
    "    if u <= 1: return False\n",
    "    if u == 2: return True\n",
    "    if u %2 == 0: return False\n",
    "    for i in range(3, int(math.sqrt(u))+1, 2):\n",
    "        if u %i == 0: return False\n",
    "    return True\n",
    "\n",
    "def big_prime(nbits):\n",
    "    while True:\n",
    "        integer = rsa.randnum.read_random_odd_int(nbits)\n",
    "        if is_prime(integer): \n",
    "            return integer\n",
    "\n",
    "print(big_prime(16))\n",
    "#is_prime(rsa.randnum.read_random_odd_int(8))"
   ]
  }
 ],
 "metadata": {
  "kernelspec": {
   "display_name": "Python 3",
   "language": "python",
   "name": "python3"
  },
  "language_info": {
   "codemirror_mode": {
    "name": "ipython",
    "version": 3
   },
   "file_extension": ".py",
   "mimetype": "text/x-python",
   "name": "python",
   "nbconvert_exporter": "python",
   "pygments_lexer": "ipython3",
   "version": "3.8.5"
  }
 },
 "nbformat": 4,
 "nbformat_minor": 4
}
