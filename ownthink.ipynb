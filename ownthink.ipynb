{
 "cells": [
  {
   "cell_type": "code",
   "execution_count": 1,
   "metadata": {},
   "outputs": [],
   "source": [
    "import sys\n",
    "import csv"
   ]
  },
  {
   "cell_type": "code",
   "execution_count": 4,
   "metadata": {},
   "outputs": [
    {
     "name": "stdout",
     "output_type": "stream",
     "text": [
      "['实体', '属性', '值']\n",
      "['胶饴', '描述', '别名: 饴糖、畅糖、畅、软糖。']\n",
      "['词条', '描述', '词条（拼音：cí tiáo）也叫词目，是辞书学用语，指收列的词语及其释文。']\n",
      "['词条', '标签', '文化']\n",
      "['红色食品', '描述', '红色食品是指食品为红色、橙红色或棕红色的食品。']\n",
      "['红色食品', '中文名', '红色食品']\n",
      "['红色食品', '是否含防腐剂', '否']\n",
      "['红色食品', '主要食用功效', '预防感冒，缓解疲劳']\n",
      "['红色食品', '适宜人群', '全部人群']\n",
      "['红色食品', '用途', '增强表皮细胞再生和防止皮肤衰老']\n",
      "['红色食品', '标签', '非科学']\n",
      "['红色食品', '标签', '生活']\n",
      "['大龙湫', '描述', '雁荡山景区分散，东起羊角洞，西至锯板岭；南起筋竹溪，北至六坪山。']\n",
      "['大龙湫', '中文名称', '大龙湫']\n",
      "['大龙湫', '外文名称', 'big dragon autrum']\n",
      "['大龙湫', '地理位置', '浙江省温州市雁荡山景区']\n",
      "['大龙湫', '开放时间', '08:00~18:00']\n",
      "['大龙湫', '门票价格', '50元']\n",
      "['大龙湫', '著名景点', '芙蓉峰']\n",
      "['大龙湫', '著名景点', '剪刀峰']\n",
      "['大龙湫', '著名景点', '连云嶂']\n",
      "['大龙湫', '著名景点', '经行峡\\u200d']\n",
      "['大龙湫', '所属国家', '中国']\n",
      "['大龙湫', '所属城市', '浙江省温州市']\n",
      "['大龙湫', '建议游玩时长', '2小时']\n",
      "['大龙湫', '适宜游玩季节', '6月-8月']\n",
      "['大龙湫', '标签', '景观景点']\n",
      "['大龙湫', '标签', '旅游']\n",
      "['大龙湫', '标签', '地理']\n",
      "['大龙湫', '标签', '地形地貌']\n",
      "['五大夫松', '描述', '五大夫松位于云步桥北侧的五松亭旁。']\n",
      "['五大夫松', '中文名称', '五大夫松']\n"
     ]
    }
   ],
   "source": [
    "with open('D:\\\\data_files\\\\ownthink_v2.csv', 'r', encoding='utf8') as f:\n",
    "    reader = csv.reader(f)\n",
    "    for index, read in enumerate(reader):\n",
    "        print(read)\n",
    "        if index > 30: break  #sys.exit(0)"
   ]
  },
  {
   "cell_type": "code",
   "execution_count": 26,
   "metadata": {},
   "outputs": [],
   "source": [
    "import csv\n",
    "def new_ownthink(lines=100):\n",
    "    file_path = 'D:\\\\data_files\\\\ownthink_v2.csv'\n",
    "    save_path = 'D:\\\\data_files\\\\ownthink_v0.csv'\n",
    "\n",
    "    with open(file_path,'r',encoding='UTF-8') as fr:\n",
    "        data = csv.reader(fr)   \n",
    "        '''开始写文件'''\n",
    "        with open(save_path,'w',newline='', encoding='UTF-8') as fs:\n",
    "            writer = csv.writer(fs,dialect='excel')\n",
    "            for index, read in enumerate(data):\n",
    "                if index < lines:\n",
    "                    writer.writerow(read)\n",
    "                else:\n",
    "                    break \n",
    "            print('All is done')\n",
    "    with open('D:\\\\data_files\\\\ownthink_v0.csv', 'r', encoding='utf8') as f:\n",
    "        reader = csv.reader(f)\n",
    "        for index, read in enumerate(reader):\n",
    "            print(read)\n",
    "            if index > 30: break "
   ]
  },
  {
   "cell_type": "code",
   "execution_count": 27,
   "metadata": {},
   "outputs": [
    {
     "name": "stdout",
     "output_type": "stream",
     "text": [
      "All is done\n",
      "['实体', '属性', '值']\n",
      "['胶饴', '描述', '别名: 饴糖、畅糖、畅、软糖。']\n",
      "['词条', '描述', '词条（拼音：cí tiáo）也叫词目，是辞书学用语，指收列的词语及其释文。']\n",
      "['词条', '标签', '文化']\n",
      "['红色食品', '描述', '红色食品是指食品为红色、橙红色或棕红色的食品。']\n",
      "['红色食品', '中文名', '红色食品']\n",
      "['红色食品', '是否含防腐剂', '否']\n",
      "['红色食品', '主要食用功效', '预防感冒，缓解疲劳']\n",
      "['红色食品', '适宜人群', '全部人群']\n",
      "['红色食品', '用途', '增强表皮细胞再生和防止皮肤衰老']\n",
      "['红色食品', '标签', '非科学']\n",
      "['红色食品', '标签', '生活']\n",
      "['大龙湫', '描述', '雁荡山景区分散，东起羊角洞，西至锯板岭；南起筋竹溪，北至六坪山。']\n",
      "['大龙湫', '中文名称', '大龙湫']\n",
      "['大龙湫', '外文名称', 'big dragon autrum']\n",
      "['大龙湫', '地理位置', '浙江省温州市雁荡山景区']\n",
      "['大龙湫', '开放时间', '08:00~18:00']\n",
      "['大龙湫', '门票价格', '50元']\n",
      "['大龙湫', '著名景点', '芙蓉峰']\n",
      "['大龙湫', '著名景点', '剪刀峰']\n",
      "['大龙湫', '著名景点', '连云嶂']\n",
      "['大龙湫', '著名景点', '经行峡\\u200d']\n",
      "['大龙湫', '所属国家', '中国']\n",
      "['大龙湫', '所属城市', '浙江省温州市']\n",
      "['大龙湫', '建议游玩时长', '2小时']\n",
      "['大龙湫', '适宜游玩季节', '6月-8月']\n",
      "['大龙湫', '标签', '景观景点']\n",
      "['大龙湫', '标签', '旅游']\n",
      "['大龙湫', '标签', '地理']\n",
      "['大龙湫', '标签', '地形地貌']\n",
      "['五大夫松', '描述', '五大夫松位于云步桥北侧的五松亭旁。']\n",
      "['五大夫松', '中文名称', '五大夫松']\n"
     ]
    }
   ],
   "source": [
    "new_ownthink()"
   ]
  },
  {
   "cell_type": "code",
   "execution_count": null,
   "metadata": {},
   "outputs": [],
   "source": []
  }
 ],
 "metadata": {
  "kernelspec": {
   "display_name": "Python 3",
   "language": "python",
   "name": "python3"
  },
  "language_info": {
   "codemirror_mode": {
    "name": "ipython",
    "version": 3
   },
   "file_extension": ".py",
   "mimetype": "text/x-python",
   "name": "python",
   "nbconvert_exporter": "python",
   "pygments_lexer": "ipython3",
   "version": "3.7.3"
  }
 },
 "nbformat": 4,
 "nbformat_minor": 2
}
