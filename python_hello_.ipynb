{
 "cells": [
  {
   "cell_type": "code",
   "execution_count": 3,
   "metadata": {},
   "outputs": [
    {
     "data": {
      "text/plain": [
       "['I', 'love', 'python', 'very', 'much']"
      ]
     },
     "execution_count": 3,
     "metadata": {},
     "output_type": "execute_result"
    }
   ],
   "source": [
    "from itertools import *\n",
    "\n",
    "list(chain(['I','love'],['python'],['very', 'much']))\n",
    "# ['I', 'love', 'python', 'very', 'much']"
   ]
  },
  {
   "cell_type": "markdown",
   "metadata": {},
   "source": [
    "def chain(*iterables):\n",
    "    for it in iterables:\n",
    "        for element in it:\n",
    "            yield element"
   ]
  },
  {
   "cell_type": "code",
   "execution_count": 5,
   "metadata": {},
   "outputs": [
    {
     "data": {
      "text/plain": [
       "[1, 2, 6, 24, 120, 720]"
      ]
     },
     "execution_count": 5,
     "metadata": {},
     "output_type": "execute_result"
    }
   ],
   "source": [
    "list(accumulate([1,2,3,4,5,6],lambda x,y: x*y))\n",
    "# [1, 2, 6, 24, 120, 720]"
   ]
  },
  {
   "cell_type": "markdown",
   "metadata": {},
   "source": [
    "def accumulate(iterable, func=operator.add, *, initial=None):\n",
    "    it = iter(iterable)\n",
    "    total = initial\n",
    "    if initial is None:\n",
    "        try:\n",
    "            total = next(it)\n",
    "        except StopIteration:\n",
    "            return\n",
    "    yield total\n",
    "    for element in it:\n",
    "        total = func(total, element)\n",
    "        yield total"
   ]
  },
  {
   "cell_type": "code",
   "execution_count": null,
   "metadata": {},
   "outputs": [],
   "source": [
    "list(compress('abcdefg',[1,1,0,1]))\n",
    "# ['a', 'b', 'd']"
   ]
  },
  {
   "cell_type": "markdown",
   "metadata": {},
   "source": [
    "def compress(data, selectors):\n",
    "    return (d for d, s in zip(data, selectors) if s)"
   ]
  },
  {
   "cell_type": "code",
   "execution_count": 11,
   "metadata": {},
   "outputs": [
    {
     "data": {
      "text/plain": [
       "[4, 1, 1, 3, 5, -5]"
      ]
     },
     "execution_count": 11,
     "metadata": {},
     "output_type": "execute_result"
    }
   ],
   "source": [
    "list(dropwhile(lambda x: x<3,[1,0,2,4,1,1,3,5,-5]))\n",
    "# [4, 1, 1, 3, 5, -5]"
   ]
  },
  {
   "cell_type": "markdown",
   "metadata": {},
   "source": [
    "def dropwhile(predicate, iterable):\n",
    "    iterable = iter(iterable)\n",
    "    for x in iterable:\n",
    "        if not predicate(x):\n",
    "            yield x\n",
    "            break\n",
    "    for x in iterable:\n",
    "        yield x"
   ]
  },
  {
   "cell_type": "code",
   "execution_count": 9,
   "metadata": {},
   "outputs": [
    {
     "data": {
      "text/plain": [
       "[1, 4]"
      ]
     },
     "execution_count": 9,
     "metadata": {},
     "output_type": "execute_result"
    }
   ],
   "source": [
    "list(takewhile(lambda x: x<5, [1,4,6,4,1]))\n",
    "# [1, 4]"
   ]
  },
  {
   "cell_type": "markdown",
   "metadata": {},
   "source": [
    "def takewhile(predicate, iterable):\n",
    "    for x in iterable:\n",
    "        if predicate(x):\n",
    "            yield x\n",
    "        else:\n",
    "            break #立即返回"
   ]
  },
  {
   "cell_type": "code",
   "execution_count": 12,
   "metadata": {},
   "outputs": [
    {
     "data": {
      "text/plain": [
       "[1, 3, 5]"
      ]
     },
     "execution_count": 12,
     "metadata": {},
     "output_type": "execute_result"
    }
   ],
   "source": [
    "list(filterfalse(lambda x: x%2==0, [1,2,3,4,5,6]))\n",
    "# [1, 3, 5]"
   ]
  },
  {
   "cell_type": "markdown",
   "metadata": {},
   "source": [
    "def dropwhile(predicate, iterable):\n",
    "    iterable = iter(iterable)\n",
    "    for x in iterable:\n",
    "        if not predicate(x):\n",
    "            yield x\n",
    "            break\n",
    "    for x in iterable:\n",
    "        yield x"
   ]
  },
  {
   "cell_type": "code",
   "execution_count": 13,
   "metadata": {},
   "outputs": [
    {
     "data": {
      "text/plain": [
       "['b', 'd']"
      ]
     },
     "execution_count": 13,
     "metadata": {},
     "output_type": "execute_result"
    }
   ],
   "source": [
    "list(islice('abcdefg',1,4,2))\n",
    "# ['b', 'd']"
   ]
  },
  {
   "cell_type": "markdown",
   "metadata": {},
   "source": [
    "def islice(iterable, *args):\n",
    "    s = slice(*args)\n",
    "    start, stop, step = s.start or 0, s.stop or sys.maxsize, s.step or 1\n",
    "    it = iter(range(start, stop, step))\n",
    "    try:\n",
    "        nexti = next(it)\n",
    "    except StopIteration:\n",
    "        for i, element in zip(range(start), iterable):\n",
    "            pass\n",
    "        return\n",
    "    try:\n",
    "        for i, element in enumerate(iterable):\n",
    "            if i == nexti:\n",
    "                yield element\n",
    "                nexti = next(it)\n",
    "    except StopIteration:\n",
    "        for i, element in zip(range(i + 1, stop), iterable):\n",
    "            pass"
   ]
  },
  {
   "cell_type": "code",
   "execution_count": 18,
   "metadata": {},
   "outputs": [
    {
     "name": "stdout",
     "output_type": "stream",
     "text": [
      "1\n",
      "1\n"
     ]
    }
   ],
   "source": [
    "a = tee([1,4,6,4,1],2)\n",
    "print(next(a[0]))\n",
    "print(next(a[1]))"
   ]
  },
  {
   "cell_type": "markdown",
   "metadata": {},
   "source": [
    "def tee(iterable, n=2):\n",
    "    it = iter(iterable)\n",
    "    deques = [collections.deque() for i in range(n)]\n",
    "    def gen(mydeque):\n",
    "        while True:\n",
    "            if not mydeque:            \n",
    "                try:\n",
    "                    newval = next(it)   \n",
    "                except StopIteration:\n",
    "                    return\n",
    "                for d in deques:     \n",
    "                    d.append(newval)\n",
    "            yield mydeque.popleft()\n",
    "    return tuple(gen(d) for d in deques)"
   ]
  },
  {
   "cell_type": "code",
   "execution_count": 19,
   "metadata": {},
   "outputs": [
    {
     "data": {
      "text/plain": [
       "['a-1', 'b-2', 'c-3']"
      ]
     },
     "execution_count": 19,
     "metadata": {},
     "output_type": "execute_result"
    }
   ],
   "source": [
    "list(starmap(lambda x,y: str(x)+'-'+str(y), [('a',1),('b',2),('c',3)]))\n",
    "# ['a-1', 'b-2', 'c-3']"
   ]
  },
  {
   "cell_type": "markdown",
   "metadata": {},
   "source": [
    "def starmap(function, iterable):\n",
    "    for args in iterable:\n",
    "        yield function(*args)"
   ]
  },
  {
   "cell_type": "code",
   "execution_count": 20,
   "metadata": {},
   "outputs": [
    {
     "data": {
      "text/plain": [
       "[[6, 'a'], [6, 'a'], [6, 'a']]"
      ]
     },
     "execution_count": 20,
     "metadata": {},
     "output_type": "execute_result"
    }
   ],
   "source": [
    "list(repeat([6, 'a'], 3))\n",
    "# [[6, 'a'], [6, 'a'], [6, 'a']]"
   ]
  },
  {
   "cell_type": "markdown",
   "metadata": {},
   "source": [
    "def repeat(object, times=None):\n",
    "    if times is None:# 如果times不设置，将一直repeat下去\n",
    "        while True: \n",
    "            yield object\n",
    "    else:\n",
    "        for i in range(times):\n",
    "            yield object"
   ]
  },
  {
   "cell_type": "code",
   "execution_count": 21,
   "metadata": {},
   "outputs": [
    {
     "data": {
      "text/plain": [
       "[('A', 'x'),\n",
       " ('A', 'y'),\n",
       " ('B', 'x'),\n",
       " ('B', 'y'),\n",
       " ('C', 'x'),\n",
       " ('C', 'y'),\n",
       " ('D', 'x'),\n",
       " ('D', 'y')]"
      ]
     },
     "execution_count": 21,
     "metadata": {},
     "output_type": "execute_result"
    }
   ],
   "source": [
    "list(product('ABCD', 'xy')) #笛卡尔积"
   ]
  },
  {
   "cell_type": "markdown",
   "metadata": {},
   "source": [
    "def product(*args, repeat=1):\n",
    "    pools = [tuple(pool) for pool in args] * repeat\n",
    "    result = [[]]\n",
    "    for pool in pools:\n",
    "        result = [x+[y] for x in result for y in pool]\n",
    "    for prod in result:\n",
    "        yield tuple(prod)"
   ]
  },
  {
   "cell_type": "code",
   "execution_count": 22,
   "metadata": {},
   "outputs": [
    {
     "data": {
      "text/plain": [
       "[('A', 'x'), ('B', 'y'), ('C', '-'), ('D', '-')]"
      ]
     },
     "execution_count": 22,
     "metadata": {},
     "output_type": "execute_result"
    }
   ],
   "source": [
    "list(zip_longest('ABCD', 'xy', fillvalue='-'))\n",
    "# [('A', 'x'), ('B', 'y'), ('C', '-'), ('D', '-')]"
   ]
  },
  {
   "cell_type": "markdown",
   "metadata": {},
   "source": [
    "def zip_longest(*args, fillvalue=None):\n",
    "    iterators = [iter(it) for it in args]\n",
    "    num_active = len(iterators)\n",
    "    if not num_active:\n",
    "        return\n",
    "    while True:\n",
    "        values = []\n",
    "        for i, it in enumerate(iterators):\n",
    "            try:\n",
    "                value = next(it)\n",
    "            except StopIteration:\n",
    "                num_active -= 1\n",
    "                if not num_active:\n",
    "                    return\n",
    "                iterators[i] = repeat(fillvalue)\n",
    "                value = fillvalue\n",
    "            values.append(value)\n",
    "        yield tuple(values)"
   ]
  },
  {
   "cell_type": "code",
   "execution_count": null,
   "metadata": {},
   "outputs": [],
   "source": []
  },
  {
   "cell_type": "code",
   "execution_count": null,
   "metadata": {},
   "outputs": [],
   "source": []
  },
  {
   "cell_type": "code",
   "execution_count": null,
   "metadata": {},
   "outputs": [],
   "source": [
    "#!/usr/bin/env python3\n",
    "# -*- coding: utf-8 -*-\n",
    "#\n",
    "\n",
    "##################################\n",
    "#简单的输入输出\n",
    "print('Hello,World!')\n",
    "print('The quick brown fox',' jumps over','the lazy dog')\n",
    "message = 'python是一门神奇的语言'\n",
    "print(message)\n",
    "message = 'hello, pyThon world.'\n",
    "print(message)\n",
    "\n",
    "print(message.title())  #Hello, Python World.\n",
    "print(message.lower())  #hello, python world.\n",
    "print(message.upper())  #HELLO, PYTHON WORLD.\n",
    "\n",
    "message[12:27]  #'n world.'  字符串也可以用切片操作\n",
    "\n",
    "cars = ['bmw','Audi','toyota','suBrU']\n",
    "print(cars)\n",
    "\n",
    "a = {'a':1,'b':2,'c':3}\n",
    "b = {'aa':11,'bb':22,'cc':33}\n",
    "dict(a,**b)\n",
    "\n",
    "c={}\n",
    "c.update(a)\n",
    "c.update(b)\n",
    "\n",
    "name = input('Please enter your name: ')\n",
    "print('Hello,',name)\n",
    "\n",
    "#时间戳（timestamp），特定的时刻。\n",
    "#固定时期（period），如2007年1月或2010年全年。\n",
    "#时间间隔（interval），由起始和结束时间戳表示。时期（period）可以被看做间隔（interval）的特例。\n",
    "\n",
    "def mult99():\n",
    "    '''#打印9*9乘法表'''\n",
    "    for i in range(9):\n",
    "        for j in range(i+1):\n",
    "            print(j+1,\"*\",i+1,\"=\",(j+1)*(i+1),\" \", end=\"\")\n",
    "            if (j+1)*(i+1)<10:\n",
    "                print(\" \",end=\"\")\n",
    "        print(\"\")\n",
    "\n",
    "print(\"\\n\".join(\"\\t\".join([\"%s*%s=%s\"%(y, x, x*y) for y in range(1, x+1)]) for x in range(1, 10)))\n",
    "\n",
    "def tree():\n",
    "    '''#用*号输出圣诞树图案'''\n",
    "    for i in range(10):\n",
    "        for j in range(20):\n",
    "            print(\" \",end=\"\")\n",
    "        for j in range(9-i):\n",
    "            print(\" \",end=\"\")\n",
    "        for j in range(1,2*i):\n",
    "            print(\"*\",end=\"\")\n",
    "        print(\"\")\n",
    "    for i in range(5):\n",
    "        for j in range(28):\n",
    "            print(\" \",end=\"\")\n",
    "        print(\"*\")\n",
    "\n",
    "def div9():\n",
    "    '''用 1 到 9 组成一个九位数，使得这个数的第一位能被 1 整除，前两位组成的两位数能被 2 整除，以此类推，一直到整个九位数能被 9 整除。'''\n",
    "    '''算法一：使用字符串方式，逐个找出符合条件的N位数，直到9位数'''\n",
    "    n=[[\"1\",\"2\",\"3\",\"4\",\"5\",\"6\",\"7\",\"8\",\"9\"]]\n",
    "    for i in range(1,9):\n",
    "        n.append([])\n",
    "    for i in range(1,9):\n",
    "        for j in n[i-1]:\n",
    "            for k in n[0]:\n",
    "                if k not in j and int(j+k)%(i+1)==0:                    \n",
    "                    n[i].append(j+k)\n",
    "    #for i in range(9):\n",
    "    #    print(n[i])\n",
    "    print(n[8])\n",
    "\n",
    "\n",
    "\n",
    "    \n",
    "#编码\n",
    "s = 'Python-中文'\n",
    "print(s)\n",
    "b = s.encode('utf-8')\n",
    "print(b)\n",
    "print(b.decode('utf-8'))\n",
    "\n",
    "#字典\n",
    "yDict = {'name': 'Zara', 'age': 47}\n",
    "#字典转为字符串\n",
    "str(yDict)\n",
    "\"{'name': 'Zara', 'age': 47}\"\n",
    "#字典可以转为元组\n",
    "tuple(yDict)\n",
    "('name', 'age')\n",
    "#字典可以转为元组\n",
    "tuple(yDict.values())\n",
    "('Zara', 47)\n",
    "#字典转为列表\n",
    "list(yDict)\n",
    "['name', 'age']\n",
    "#字典转为列表\n",
    "list(yDict.values())\n",
    "['Zara', 47]\n",
    "\n",
    "#元组\n",
    "yTuple=(1, 2, 3, 4, 5,6,7,8)\n",
    "#元组转为字符串\n",
    "yTuple.__str__()\n",
    "'(1, 2, 3, 4, 5, 6, 7, 8)'\n",
    "#元组转为列表\n",
    "list(yTuple)\n",
    "[1, 2, 3, 4, 5, 6, 7, 8]\n",
    "#元组不可以转为字典*\n",
    "\n",
    "#列表\n",
    "yList=[1, 3, 5, 7, 9, 11, 13]\n",
    "#列表转为字符串\n",
    "str(yList)\n",
    "'[1, 3, 5, 7, 9, 11, 13]'\n",
    "#列表转为元组\n",
    "tuple(yList)\n",
    "(1, 3, 5, 7, 9, 11, 13)\n",
    "#列表不可以转为字典*\n",
    "\n",
    "#字符串\n",
    "yStr=\"(1,2,3)\"\n",
    "#字符串转为元组\n",
    "tuple(eval(yStr))\n",
    "(1, 2, 3)\n",
    "#字符串转为列表\n",
    "list(eval(yStr))\n",
    "[1, 2, 3]\n",
    "#字符串转为字典\n",
    "yStr1=\"{'name':'yuan', 'age':46}\"\n",
    "eval(yStr1)\n",
    "{'name': 'yuan', 'age': 46}\n",
    "\n",
    "#复杂列表\n",
    "L=[\n",
    "\t['apple','google','microsoft'],\n",
    "\t['java','phthon','php'],\n",
    "\t['adam','bart','lisa']\n",
    "\t]\n",
    "\n",
    "print(L[2][2])\n",
    "lisa\n",
    "print(L[1][-2:])\n",
    "['phthon', 'php']\n",
    "\n",
    "#遍历L\n",
    "def lis(z):\n",
    "    for i in z:\n",
    "        if isinstance(i,list):\n",
    "            lis(i)\n",
    "        else:\n",
    "            print(i)\n",
    "\n",
    "list(L)\n",
    "apple\n",
    "google\n",
    "microsoft\n",
    "java\n",
    "phthon\n",
    "php\n",
    "adam\n",
    "bart\n",
    "lisa\n",
    "#把列表L的单词第一个字母大写，并生成一个字典\n",
    "[v.capitalize() for vec in L for v in vec]\n",
    "['Apple', 'Google', 'Microsoft', 'Java', 'Phthon', 'Php', 'Adam', 'Bart', 'Lisa']\n",
    "\n",
    "#######################################\n",
    "# reduce用法\n",
    "#1、求listE = [1,2,3,4,5]所有元素之和\n",
    "print(reduce(lambda x,y:x + y, listE))\n",
    "15\n",
    "\n",
    "#2、求listE = [1,2,3,4,5]所有元素中最大值或者最小值\n",
    "print(reduce(lambda x,y:x if x>y else y, listE))\n",
    "5\n",
    "print(reduce(lambda x,y:x if x<y else y, listE))\n",
    "1\n",
    "\n",
    "#3、求stringsE = ['abc','abcd','def']中'abc'出现的总次数\n",
    "print(reduce(lambda count, str:count + str.count('abc'), stringsE, 0))\n",
    "2\n",
    "\n",
    "\n",
    "'''     \n",
    "#将一个正整数分解质因数。例如：输入90,打印出90=2*3*3*5\n",
    "#有1、2、3、4个数字，能组成多少个互不相同且无重复数字的三位数？都是多少？\n",
    "#一个整数，它加上100后是一个完全平方数，再加上168又是一个完全平方数，请问该数是多少？ \n",
    "#输入某年某月某日，判断这一天是这一年的第几天，星期几？ \n",
    "#输入三个整数x,y,z，请把这三个数由小到大输出。 \n",
    "#利用条件运算符的嵌套来完成此题：学习成绩>=90分的同学用A表示，60-89分之间的用B表示，60分以下的用C表示。 \n",
    "#输入一行字符，分别统计出其中英文字母、空格、数字和其它字符的个数。 \n",
    "#一球从100米高度自由落下，每次落地后反跳回原高度的一半；再落下，求它在第10次落地时，共经过多少米？第10次反弹多高？\n",
    "#个人所得税扣除\n",
    "\n",
    "''' \n",
    "\n",
    " \n",
    "def n_s(n=15):\n",
    "    '''#一个正整数有可能表示为n个连续正整数之和，如15=1+2+3+4+5，15=7+8等。\n",
    "    #那么给定一个正整数，找出所有连续正整数序列\n",
    "    '''\n",
    "    n_list = []\n",
    "    for i in range(1, n//2+1):\n",
    "        t_list = [i]       \n",
    "        t = i\n",
    "        j = i + 1\n",
    "        while True:\n",
    "            t += j\n",
    "            if t < n:\n",
    "                t_list .append(j)\n",
    "                j +=1\n",
    "            if t > n: break\n",
    "            if t == n:\n",
    "                t_list.append(j)\n",
    "                n_list.append(t_list)\n",
    "                break\n",
    "    return n_list\n",
    " \n",
    "\n",
    "'''\n",
    "用一行代码就把 109 张图片读到了一个 109x256x256x4 的 numpy 数组中，耗时 172 毫秒\n",
    "data = np.stack([np.array(Image.open('head%d.png'%i)) for i in range(109)], axis=0)\n",
    "\n",
    "data = list\n",
    "for i in range(109):\n",
    "img = Image.open('head%d.png'%i)\n",
    "img = np.array(img)\n",
    "data.append(img)\n",
    "data = np.stack(data, axis=0)\n",
    "\n",
    "一行代码打印乘法口诀\n",
    "print('\\n'.join([' '.join([\"%2s x%2s = %2s\"%(j,i,i*j) for j in range(1,i+1)]) for i in range(1,10)]))\n",
    "\n",
    "一行代码打印迷宫\n",
    "print(''.join(__import__('random').choice('\\\\u2571\\\\u2572') for i in range(50*24)))\n",
    "\n",
    "一行代码表白爱情\n",
    "print('\\n'.join([''.join([('Love'[(x-y) % len('Love')]\n",
    "    if ((x*0.05)**2+(y*0.1)**2-1)**3-(x*0.05)**2*(y*0.1)**3 <= 0else' ')\n",
    "    for x in range(-30, 30)]) for y in range(30, -30, -1)]))\n",
    "\n",
    "一行代码打印小龟龟\n",
    "print('\\n'.join([''.join(['*' if abs((lambda a:lambda z,c,n:a(a,z,c,n))\n",
    "    (lambda s,z,c,n:z if n==0 else s(s,z*z+c,c,n-1))(0,0.02*x+0.05j*y,40))<2 else ' '\n",
    "    for x in range(-80,20)]) for y in range(-20,20)]))\n",
    "'''\n",
    "\n",
    "\n",
    "# Gather our code in a main() function\n",
    "import argparse\n",
    "def main():\n",
    "    # create parser\n",
    "    descStr = \"\"\"\n",
    "    This program analyzes args .\n",
    "    \"\"\"\n",
    "    parser = argparse.ArgumentParser(description=descStr)\n",
    "    # add a mutually exclusive group of arguments\n",
    "    group = parser.add_mutually_exclusive_group()\n",
    "\n",
    "    # add expected arguments\n",
    "    group .add_argument('--common', nargs = '*', dest='plFiles', required=False)\n",
    "    group .add_argument('--stats', dest='plFile', required=False)\n",
    "    group .add_argument('--dup', dest='plFileD', required=False)\n",
    "\n",
    "    # parse args\n",
    "    args = parser.parse_args()\n",
    "\n",
    "    if args.plFiles:\n",
    "        # find common tracks\n",
    "        findCommonTracks(args.plFiles)\n",
    "    elif args.plFile:\n",
    "        # plot stats\n",
    "        plotStats(args.plFile)\n",
    "    elif args.plFileD:\n",
    "        # find duplicate tracks\n",
    "        findDuplicates(args.plFileD)\n",
    "    else:\n",
    "        print(\"These are not the tracks you are looking for.\")\n",
    "\n",
    "# main method\n",
    "if __name__ == '__main__':\n",
    "    main()\n",
    "    \n",
    "\n",
    "from datetime import datetime\n",
    "dt = datetime.now()  \n",
    "print (  '时间：(%Y-%m-%d %H:%M:%S %f): ' , dt.strftime( '%Y-%m-%d %H:%M:%S %f' )  )\n",
    "print (  '时间：(%Y-%m-%d %H:%M:%S %p): ' , dt.strftime( '%y-%m-%d %I:%M:%S %p' )  )\n",
    "print (  '星期缩写%%a: %s '  % dt.strftime( '%a' )  )\n",
    "print (  '星期全拼%%A: %s '  % dt.strftime( '%A' )  )\n",
    "print (  '月份缩写%%b: %s '  % dt.strftime( '%b' )  )\n",
    "print (  '月份全批%%B: %s '  % dt.strftime( '%B' )  )\n",
    "print (  '日期时间%%c: %s '  % dt.strftime( '%c' )  )\n",
    "print ( '今天是这周的第%s天 '  % dt.strftime( '%w' )  )\n",
    "print (  '今天是今年的第%s天 '  % dt.strftime( '%j' )  )\n",
    "print (  '今周是今年的第%s周 '  % dt.strftime( '%U' ) )\n",
    "print (  '今天是当月的第%s天 '  % dt.strftime( '%d' ))"
   ]
  }
 ],
 "metadata": {
  "kernelspec": {
   "display_name": "Python 3",
   "language": "python",
   "name": "python3"
  },
  "language_info": {
   "codemirror_mode": {
    "name": "ipython",
    "version": 3
   },
   "file_extension": ".py",
   "mimetype": "text/x-python",
   "name": "python",
   "nbconvert_exporter": "python",
   "pygments_lexer": "ipython3",
   "version": "3.7.7"
  }
 },
 "nbformat": 4,
 "nbformat_minor": 2
}
