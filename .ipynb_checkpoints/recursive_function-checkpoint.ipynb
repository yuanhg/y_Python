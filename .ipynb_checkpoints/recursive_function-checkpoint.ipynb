{
 "cells": [
  {
   "cell_type": "code",
   "execution_count": null,
   "metadata": {},
   "outputs": [],
   "source": [
    "#!/usr/bin/env python3\n",
    "#-*- coding: utf-8 -*-\n",
    "\n",
    "\n",
    "def gcd(n1,n2):\n",
    "    '''greatest common divisor function最大公因数 '''\n",
    "    '''利用递归函数完成运算,辗转相除法也叫欧几里德算法'''\n",
    "    \n",
    "    return gcd(n2, n1 % n2) if n2 > 0 else n1\n",
    "\n",
    "\n",
    "def lcm(n1,n2):\n",
    "    \"\"\"lowest common multiple function最小公倍数\"\"\"\n",
    "    \n",
    "    return n1 * n2 // gcd(n1, n2)\n",
    "\n",
    "\n",
    "def factorial_recursive(n):\n",
    "    '''#用递归函数实现f(x)=1*2*3*……'''\n",
    "    if n==1:\n",
    "        return 1\n",
    "    else:\n",
    "        return n*factorial_recursive(n-1)\n",
    "\n",
    "\n",
    "def HanoiMove(n=3, A='A', B='B', C='C'):\n",
    "    '''汉诺塔的移动可以用递归函数非常简单地实现,\n",
    "    move(n, A,B,C)函数，它接收参数n，表示n个盘子;参数A、C，表示3个柱子,B是中间柱；\n",
    "    然后打印出把所有盘子从A借助B移动到C的方法;\n",
    "    '''\n",
    "    if n==1:\n",
    "        print(\"No. \", n, \"from \", A, '-->', C, \".\")\n",
    "    else:\n",
    "        HanoiMove(n-1,A,C,B)\n",
    "        print(\"No. \", n, \"from \", A, '-->', C, \".\")\n",
    "        HanoiMove(n-1,B,A,C)\n",
    "        \n",
    "def hanoi(n, a, b, c):\n",
    "    if n==1:\n",
    "        print(\"Number \", n, \"from \", a, \"to \", c)\n",
    "    else:\n",
    "        hanoi(n-1, a, c, b)\n",
    "        print(\"Number \", n, \"from \", a, \"to \", c)\n",
    "        hanoi(n-1, b, a, c)\n",
    "        \n",
    "hanoi(9, 'a', 'b', 'c')"
   ]
  }
 ],
 "metadata": {
  "kernelspec": {
   "display_name": "Python 3",
   "language": "python",
   "name": "python3"
  },
  "language_info": {
   "codemirror_mode": {
    "name": "ipython",
    "version": 3
   },
   "file_extension": ".py",
   "mimetype": "text/x-python",
   "name": "python",
   "nbconvert_exporter": "python",
   "pygments_lexer": "ipython3",
   "version": "3.7.5"
  }
 },
 "nbformat": 4,
 "nbformat_minor": 2
}
