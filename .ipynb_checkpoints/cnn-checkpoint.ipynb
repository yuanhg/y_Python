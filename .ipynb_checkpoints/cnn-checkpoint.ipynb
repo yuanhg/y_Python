{
 "cells": [
  {
   "cell_type": "code",
   "execution_count": 1,
   "metadata": {},
   "outputs": [],
   "source": [
    "import numpy as np \n",
    "import matplotlib.pyplot as plt \n",
    "import tensorflow as tf"
   ]
  },
  {
   "cell_type": "code",
   "execution_count": 4,
   "metadata": {},
   "outputs": [
    {
     "data": {
      "image/png": "[encoded data removed]",
      "text/plain": [
       "<Figure size 432x288 with 1 Axes>"
      ]
     },
     "metadata": {
      "needs_background": "light"
     },
     "output_type": "display_data"
    }
   ],
   "source": [
    "# Define the number of points to generate \n",
    "num_points = 1200\n",
    "# Generate the data based on equation y = mx + c \n",
    "data = [] \n",
    "m = 0.2 \n",
    "c = 0.5 \n",
    "for i in range(num_points): \n",
    "    # Generate 'x' \n",
    "    x = np.random.normal(0.0, 0.8)\n",
    "    # Generate some noise \n",
    "    noise = np.random.normal(0.0, 0.04)\n",
    "    # Compute 'y' \n",
    "    y = m*x + c + noise \n",
    "    data.append([x, y])\n",
    "\n",
    "# Separate x and y \n",
    "x_data = [d[0] for d in data] \n",
    "y_data = [d[1] for d in data]\n",
    "\n",
    "# Plot the generated data \n",
    "plt.plot(x_data, y_data, 'ro') \n",
    "plt.title('Input data') \n",
    "plt.show()"
   ]
  },
  {
   "cell_type": "code",
   "execution_count": 5,
   "metadata": {},
   "outputs": [
    {
     "name": "stderr",
     "output_type": "stream",
     "text": [
      "WARNING: Logging before flag parsing goes to stderr.\n",
      "W0808 09:47:07.675796 12164 deprecation.py:323] From C:\\ProgramData\\Anaconda3\\lib\\site-packages\\tensorflow\\python\\util\\tf_should_use.py:193: initialize_all_variables (from tensorflow.python.ops.variables) is deprecated and will be removed after 2017-03-02.\n",
      "Instructions for updating:\n",
      "Use `tf.global_variables_initializer` instead.\n"
     ]
    }
   ],
   "source": [
    "# Generate weights and biases \n",
    "W = tf.Variable(tf.random_uniform([1], -1.0, 1.0)) \n",
    "b = tf.Variable(tf.zeros([1]))\n",
    "\n",
    "# Define equation for 'y' \n",
    "y = W * x_data + b\n",
    "# Define how to compute the loss \n",
    "loss = tf.reduce_mean(tf.square(y - y_data))\n",
    "# Define the gradient descent optimizer \n",
    "optimizer = tf.train.GradientDescentOptimizer(0.5) \n",
    "train = optimizer.minimize(loss)\n",
    "# Initialize all the variables \n",
    "init = tf.initialize_all_variables()\n",
    "# Start the tensorflow session and run it \n",
    "sess = tf.Session() \n",
    "sess.run(init)"
   ]
  },
  {
   "cell_type": "code",
   "execution_count": 9,
   "metadata": {},
   "outputs": [
    {
     "name": "stdout",
     "output_type": "stream",
     "text": [
      "ITERATION 1\n",
      "W = 0.20138468\n",
      "b = 0.4984992\n",
      "loss = 0.0016473366\n",
      "ITERATION 2\n",
      "W = 0.20138468\n",
      "b = 0.4984992\n",
      "loss = 0.0016473366\n",
      "ITERATION 3\n",
      "W = 0.20138468\n",
      "b = 0.4984992\n",
      "loss = 0.0016473366\n",
      "ITERATION 4\n",
      "W = 0.20138468\n",
      "b = 0.4984992\n",
      "loss = 0.0016473366\n",
      "ITERATION 5\n",
      "W = 0.20138468\n",
      "b = 0.4984992\n",
      "loss = 0.0016473366\n",
      "ITERATION 6\n",
      "W = 0.20138468\n",
      "b = 0.4984992\n",
      "loss = 0.0016473366\n",
      "ITERATION 7\n",
      "W = 0.20138468\n",
      "b = 0.4984992\n",
      "loss = 0.0016473366\n",
      "ITERATION 8\n",
      "W = 0.20138468\n",
      "b = 0.4984992\n",
      "loss = 0.0016473366\n",
      "ITERATION 9\n",
      "W = 0.20138468\n",
      "b = 0.4984992\n",
      "loss = 0.0016473366\n",
      "ITERATION 10\n",
      "W = 0.20138468\n",
      "b = 0.4984992\n",
      "loss = 0.0016473366\n"
     ]
    },
    {
     "data": {
      "image/png": "[encoded data removed]",
      "text/plain": [
       "<Figure size 432x288 with 1 Axes>"
      ]
     },
     "metadata": {
      "needs_background": "light"
     },
     "output_type": "display_data"
    }
   ],
   "source": [
    "# Start iterating \n",
    "num_iterations = 10 \n",
    "for step in range(num_iterations): \n",
    "    # Run the session \n",
    "    sess.run(train)\n",
    "    # Print the progress \n",
    "    print('ITERATION', step+1) \n",
    "    print('W =', sess.run(W)[0]) \n",
    "    print('b =', sess.run(b)[0]) \n",
    "    print('loss =', sess.run(loss))\n",
    "\n",
    "    \n",
    "# Plot the input data \n",
    "plt.plot(x_data, y_data, 'ro') \n",
    "# Plot the predicted output line \n",
    "plt.plot(x_data, sess.run(W) * x_data + sess.run(b))\n",
    "\n",
    "# Set plotting parameters \n",
    "plt.xlabel('Dimension 0') \n",
    "plt.ylabel('Dimension 1') \n",
    "plt.title('Iteration ' + str(step+1) + ' of ' + str(num_iterations)) \n",
    "plt.show()\n"
   ]
  },
  {
   "cell_type": "code",
   "execution_count": null,
   "metadata": {},
   "outputs": [],
   "source": []
  }
 ],
 "metadata": {
  "kernelspec": {
   "display_name": "Python 3",
   "language": "python",
   "name": "python3"
  },
  "language_info": {
   "codemirror_mode": {
    "name": "ipython",
    "version": 3
   },
   "file_extension": ".py",
   "mimetype": "text/x-python",
   "name": "python",
   "nbconvert_exporter": "python",
   "pygments_lexer": "ipython3",
   "version": "3.7.3"
  }
 },
 "nbformat": 4,
 "nbformat_minor": 2
}
