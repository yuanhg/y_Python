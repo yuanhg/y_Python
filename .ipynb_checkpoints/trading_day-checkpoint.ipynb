{
 "cells": [
  {
   "cell_type": "code",
   "execution_count": 1,
   "metadata": {},
   "outputs": [],
   "source": [
    "import json\n",
    "from datetime import datetime\n",
    "import tkinter\n",
    "from tkinter.tix import * #升级的组合控件包\n",
    "from tkinter.messagebox import showinfo, showwarning, showerror #各种类型的提示框\n",
    "from tkinter.constants import *"
   ]
  },
  {
   "cell_type": "code",
   "execution_count": 2,
   "metadata": {},
   "outputs": [],
   "source": [
    "#如果没有days.json文件，则创建；如有，则读入\n",
    "try:\n",
    "    with open('C://Users//faqui//Documents//github//y_Python//bull_bear_days.json', 'r') as f:\n",
    "        bull_bear_days = json.load(f)\n",
    "except FileNotFoundError:\n",
    "    bull_bear_days = {\n",
    "        'bear_days': 0,\n",
    "        'bull_days': 0,\n",
    "        'bull_bear': [{'bull': '2020/01/01'}, \n",
    "                      ]\n",
    "        }\n",
    "\n",
    "    with open('C://Users//faqui//Documents//github//y_Python//bull_bear_days.json', 'w') as f:\n",
    "        json.dump(bull_bear_days, f)\n",
    "else:\n",
    "    pass"
   ]
  },
  {
   "cell_type": "code",
   "execution_count": 3,
   "metadata": {},
   "outputs": [],
   "source": [
    "def trading_days(dt1, dt2):\n",
    "    '''判断两个日期间的交易日数，含最后一个日期\n",
    "    两个日期间的天数 - 周末 - 法定节假日'''\n",
    "    \n",
    "    holidays = ['2020/01/01', '2020/01/24', '2020/01/27', '2020/01/28', '2020/01/29', '2020/01/30', \n",
    "                '2020/04/06', '2020/05/01', '2020/05/04', '2020/05/05', '2020/06/25', '2020/06/26',\n",
    "                '2020/10/01', '2020/10/02', '2020/10/05', '2020/10/06', '2020/10/07', '2020/10/08']\n",
    "    \n",
    "    #取出两个日期的数字范围，看假期是否在这个范围内，如在，则假期计数+1\n",
    "    dt1num = int(''.join(dt1.split('/')))\n",
    "    dt2num = int(''.join(dt2.split('/')))\n",
    "    \n",
    "    holiday_counts = 0\n",
    "    \n",
    "    for holiday in holidays:\n",
    "        holiday_num = int(''.join(holiday.split('/')))\n",
    "        if dt1num <= holiday_num and holiday_num <= dt2num :\n",
    "            holiday_counts +=1\n",
    "    \n",
    "    #计算两个日期间的工作天数\n",
    "    date1 = datetime.strptime(dt1,'%Y/%m/%d') #字符串日期转换datetiem格式\n",
    "    date2 = datetime.strptime(dt2,'%Y/%m/%d')\n",
    "    \n",
    "    days1 = int(date1.strftime('%j')) \n",
    "    weekend_days1 = (days1 + 2) //7 *2 \n",
    "    if date1.strftime('%a') == 'Sat' :  weekend_days1 += 1\n",
    "    \n",
    "    days2 = int(date2.strftime('%j'))\n",
    "    weekend_days2 = (days2 + 2) //7 *2 \n",
    "    if date2.strftime('%a') == 'Sat' :  weekend_days2 += 1\n",
    "    \n",
    "    #计算两个日期间的交易天数\n",
    "    trading_days = (days2 - weekend_days2) - (days1 - weekend_days1) - holiday_counts\n",
    "    \n",
    "    return trading_days"
   ]
  },
  {
   "cell_type": "code",
   "execution_count": 4,
   "metadata": {},
   "outputs": [],
   "source": [
    "date = datetime.now()\n",
    "date_str = date.strftime( '%Y/%m/%d' ) \n",
    "\n",
    "(key, value), = bull_bear_days['bull_bear'][-1].items()\n",
    "days = trading_days(value, date_str)\n",
    "bull_days = bull_bear_days['bull_days']\n",
    "bear_days = bull_bear_days['bear_days']\n",
    "if key == 'bull': bull_days +=  days\n",
    "if key == 'bear': bear_days +=  days\n"
   ]
  },
  {
   "cell_type": "code",
   "execution_count": 8,
   "metadata": {},
   "outputs": [
    {
     "name": "stdout",
     "output_type": "stream",
     "text": [
      "6 days 0 days 237 days\n"
     ]
    }
   ],
   "source": [
    "all_days = 243\n",
    "\n",
    "bull_days_str = str(bull_days) + ' days'\n",
    "bear_days_str = str(bear_days) + ' days'\n",
    "other_days = all_days - bull_days - bear_days\n",
    "other_days_str = str(other_days) + ' days'\n",
    "#bull_bear_days['bull_bear'].append({'bear': date_str})\n",
    "print(bull_days_str,bear_days_str,other_days_str)\n"
   ]
  },
  {
   "cell_type": "code",
   "execution_count": 14,
   "metadata": {},
   "outputs": [],
   "source": [
    "root = Tk() # 初始化Tk()  root便是你布局的根节点了，以后的布局都在它之上\n",
    "root.title(\"行者桑结\") # 设置窗口标题\n",
    "root.geometry(\"600x300\") # 设置窗口大小 注意：是x 不是*\n",
    "root.resizable(width=True, height=True) # 设置窗口是否可以变化长/宽，False不可变，True可变，默认为True\n",
    "root.tk.eval('package require Tix') #引入升级包，这样才能使用升级的组合控件\n",
    "\n",
    "#创建一个状态显示标签\n",
    "info_status = Label(root, width=300, relief=SUNKEN, font=(\"Arial\",9), \n",
    "                    bg='gray', fg='red', bd=1, anchor = W)\n",
    "info_status.place(x=0, y=280, anchor=NW)\n",
    "\n",
    "date_button = Button(root, width=10, text=\"转换日期\", relief=GROOVE, font=(\"Arial\",10))\n",
    "date_button.place(x=100, y=50, anchor=NW)\n",
    "\n",
    "date_balloon = Balloon(root, statusbar=info_status)\n",
    "date_balloon.bind_widget(date_button, balloonmsg='点按选择日期', \n",
    "                         statusmsg='点按这个按钮,选择牛熊状态改变的交易日期。')\n",
    "\n",
    "#实现交易转换按钮\n",
    "def bull_bear_button_call():\n",
    "    if bull_bear_button.configure('text')[-1] == 'BULL':\n",
    "        bull_bear_button.configure(text='BEAR',bg=\"green\")\n",
    "    else:\n",
    "        bull_bear_button.configure(text='BULL',bg=\"red\")\n",
    "    \n",
    "bull_bear_button = Button(root,  text='BULL', bg=\"red\", command=bull_bear_button_call, \n",
    "                     activebackground = \"black\", activeforeground = \"white\",\n",
    "                     bd=5, font=(\"Arial\",12), width=6, relief=RAISED)\n",
    "bull_bear_button.place(x=100, y=100, anchor=NW)\n",
    "\n",
    "bull_bear_balloon = Balloon(root, statusbar=info_status)\n",
    "bull_bear_balloon.bind_widget(bull_bear_button, balloonmsg='牛熊状态开关', \n",
    "                         statusmsg='点按这个按钮,改变牛熊状态：亮代表打开，按代表关闭。')\n",
    "\n",
    "\n",
    "#交易使用红色和绿色色条表示\n",
    "label_frame = Frame(root, height=2, bd=2, relief=\"sunken\")\n",
    "label_frame.place(x=100, y=150, anchor=NW)\n",
    "\n",
    "bull_label = Label(label_frame, text = bull_days_str, width=bull_days//5+1, height=2, relief=SUNKEN, bg='red', bd=0)\n",
    "bear_label = Label(label_frame, text = bear_days_str, width=bear_days//5+1, height=2, relief=SUNKEN, bg='green', bd=0)\n",
    "bb_label = Label(label_frame, text = other_days_str, width=other_days//5+1, height=2, relief=SUNKEN, bg='gray', bd=0)\n",
    "bull_label.pack(side=LEFT)\n",
    "bear_label.pack(side=LEFT)\n",
    "bb_label.pack(side=LEFT)\n",
    "\n",
    "root.mainloop()"
   ]
  }
 ],
 "metadata": {
  "kernelspec": {
   "display_name": "Python 3",
   "language": "python",
   "name": "python3"
  },
  "language_info": {
   "codemirror_mode": {
    "name": "ipython",
    "version": 3
   },
   "file_extension": ".py",
   "mimetype": "text/x-python",
   "name": "python",
   "nbconvert_exporter": "python",
   "pygments_lexer": "ipython3",
   "version": "3.7.5"
  }
 },
 "nbformat": 4,
 "nbformat_minor": 2
}
